{
 "cells": [
  {
   "cell_type": "markdown",
   "id": "fe965a71-d23a-4aa2-b4b9-0ea0baf1ae09",
   "metadata": {},
   "source": [
    "# Project 4 : Kaggle West Nile Virus\n",
    "\n",
    "----------"
   ]
  },
  {
   "cell_type": "markdown",
   "id": "260bafa2-e1a5-400b-8574-0e2ae751dd64",
   "metadata": {},
   "source": [
    "## Contents:\n",
    "### Part 1b Weather Data Cleaning & Exploratory Data Analysis(EDA)\n",
    "\n",
    "1. [Importing Libraries](#1.-Importing-Libraries)\n",
    "2. [Importing Data](#2.-Importing-Data)\n",
    "3. [Data Cleaning](#3.-Data-Cleaning)\n",
    "-------"
   ]
  },
  {
   "cell_type": "markdown",
   "id": "59d7f43c-a55e-45a4-87ef-d86b7dbf96b2",
   "metadata": {},
   "source": [
    "## 1. Importing Libraries"
   ]
  },
  {
   "cell_type": "code",
   "execution_count": 1,
   "id": "523d3c01-55c5-4882-a5f2-025ec38399de",
   "metadata": {},
   "outputs": [],
   "source": [
    "import numpy as np\n",
    "import pandas as pd\n",
    "import matplotlib.pyplot as plt\n",
    "import seaborn as sns\n",
    "\n",
    "# Display full output \n",
    "pd.set_option('display.max_rows', 500)\n",
    "pd.set_option('display.max_columns', 500)\n",
    "pd.set_option('display.max_colwidth', None)"
   ]
  },
  {
   "cell_type": "markdown",
   "id": "258c680d-ac0c-49cf-9827-0ebc5cbfb9b3",
   "metadata": {},
   "source": [
    "## 2. Importing Data"
   ]
  },
  {
   "cell_type": "code",
   "execution_count": 2,
   "id": "cf48ae81-8c8f-4543-a0e7-da09d1b43183",
   "metadata": {},
   "outputs": [],
   "source": [
    "weather = pd.read_csv('./assets/weather.csv')"
   ]
  },
  {
   "cell_type": "code",
   "execution_count": 3,
   "id": "e56fe099-29b5-42d6-a09f-cb3caaae9c49",
   "metadata": {},
   "outputs": [
    {
     "data": {
      "text/plain": [
       "(2944, 22)"
      ]
     },
     "execution_count": 3,
     "metadata": {},
     "output_type": "execute_result"
    }
   ],
   "source": [
    "weather.shape"
   ]
  },
  {
   "cell_type": "markdown",
   "id": "fe574abf-5bb5-4830-a4e5-7cd01504672e",
   "metadata": {},
   "source": [
    "## 3. Data Cleaning\n",
    "\n",
    "<b>Weather Data</b>:\n",
    "- Renamed the weather data columns into snake-case for naming convention\n",
    "- Turned date column from string object to datetime64\n",
    "- Replaced 'M' & '-' values as np.nan\n",
    "- Dropped water1, snowfall, codesum & depth variables due to high missing values & meaningless variables.\n",
    "- Imputed missing values for daily average temperature tavg with average of tmax and tmin and calculated missing values for cool and heat by subtracting tavg from base 65 F\n",
    "- Imputed 'T' or trace values as 0.005\n",
    "- Transformed all features except date, codesum and station into float values\n",
    "- Imputed missing values for wetbulb, preciptotal, stnpressure, sealevel, avgspeed using median value\n",
    "- Imputed sunrise and sunset for station 2 with station 1 values using 'forward fill' method\n",
    "- Imputed depart for station 2 with station 1 values using 'forward fill' method\n",
    "- Split and recombined CodeSum to create proper spacing between different codes\n",
    "- Created new variables indicate rainy, snowy, windy and misty weather phenomena based on codesum and dropped low count variable/snowy & windy weather\n",
    "- Merged stations 1 & 2 on date, sunrise & sunset\n",
    "- Added year, month and day features"
   ]
  },
  {
   "cell_type": "code",
   "execution_count": 4,
   "id": "42227d4d-329c-4d33-987c-b20974e1f57d",
   "metadata": {},
   "outputs": [
    {
     "name": "stdout",
     "output_type": "stream",
     "text": [
      "<class 'pandas.core.frame.DataFrame'>\n",
      "RangeIndex: 2944 entries, 0 to 2943\n",
      "Data columns (total 22 columns):\n",
      " #   Column       Non-Null Count  Dtype  \n",
      "---  ------       --------------  -----  \n",
      " 0   Station      2944 non-null   int64  \n",
      " 1   Date         2944 non-null   object \n",
      " 2   Tmax         2944 non-null   int64  \n",
      " 3   Tmin         2944 non-null   int64  \n",
      " 4   Tavg         2944 non-null   object \n",
      " 5   Depart       2944 non-null   object \n",
      " 6   DewPoint     2944 non-null   int64  \n",
      " 7   WetBulb      2944 non-null   object \n",
      " 8   Heat         2944 non-null   object \n",
      " 9   Cool         2944 non-null   object \n",
      " 10  Sunrise      2944 non-null   object \n",
      " 11  Sunset       2944 non-null   object \n",
      " 12  CodeSum      2944 non-null   object \n",
      " 13  Depth        2944 non-null   object \n",
      " 14  Water1       2944 non-null   object \n",
      " 15  SnowFall     2944 non-null   object \n",
      " 16  PrecipTotal  2944 non-null   object \n",
      " 17  StnPressure  2944 non-null   object \n",
      " 18  SeaLevel     2944 non-null   object \n",
      " 19  ResultSpeed  2944 non-null   float64\n",
      " 20  ResultDir    2944 non-null   int64  \n",
      " 21  AvgSpeed     2944 non-null   object \n",
      "dtypes: float64(1), int64(5), object(16)\n",
      "memory usage: 506.1+ KB\n"
     ]
    }
   ],
   "source": [
    "weather.info()"
   ]
  },
  {
   "cell_type": "code",
   "execution_count": 5,
   "id": "14c8a0a8-2211-422f-bca1-5d83840b00bc",
   "metadata": {},
   "outputs": [
    {
     "data": {
      "text/html": [
       "<div>\n",
       "<style scoped>\n",
       "    .dataframe tbody tr th:only-of-type {\n",
       "        vertical-align: middle;\n",
       "    }\n",
       "\n",
       "    .dataframe tbody tr th {\n",
       "        vertical-align: top;\n",
       "    }\n",
       "\n",
       "    .dataframe thead th {\n",
       "        text-align: right;\n",
       "    }\n",
       "</style>\n",
       "<table border=\"1\" class=\"dataframe\">\n",
       "  <thead>\n",
       "    <tr style=\"text-align: right;\">\n",
       "      <th></th>\n",
       "      <th>Station</th>\n",
       "      <th>Date</th>\n",
       "      <th>Tmax</th>\n",
       "      <th>Tmin</th>\n",
       "      <th>Tavg</th>\n",
       "      <th>Depart</th>\n",
       "      <th>DewPoint</th>\n",
       "      <th>WetBulb</th>\n",
       "      <th>Heat</th>\n",
       "      <th>Cool</th>\n",
       "      <th>Sunrise</th>\n",
       "      <th>Sunset</th>\n",
       "      <th>CodeSum</th>\n",
       "      <th>Depth</th>\n",
       "      <th>Water1</th>\n",
       "      <th>SnowFall</th>\n",
       "      <th>PrecipTotal</th>\n",
       "      <th>StnPressure</th>\n",
       "      <th>SeaLevel</th>\n",
       "      <th>ResultSpeed</th>\n",
       "      <th>ResultDir</th>\n",
       "      <th>AvgSpeed</th>\n",
       "    </tr>\n",
       "  </thead>\n",
       "  <tbody>\n",
       "    <tr>\n",
       "      <th>0</th>\n",
       "      <td>1</td>\n",
       "      <td>2007-05-01</td>\n",
       "      <td>83</td>\n",
       "      <td>50</td>\n",
       "      <td>67</td>\n",
       "      <td>14</td>\n",
       "      <td>51</td>\n",
       "      <td>56</td>\n",
       "      <td>0</td>\n",
       "      <td>2</td>\n",
       "      <td>0448</td>\n",
       "      <td>1849</td>\n",
       "      <td></td>\n",
       "      <td>0</td>\n",
       "      <td>M</td>\n",
       "      <td>0.0</td>\n",
       "      <td>0.00</td>\n",
       "      <td>29.10</td>\n",
       "      <td>29.82</td>\n",
       "      <td>1.7</td>\n",
       "      <td>27</td>\n",
       "      <td>9.2</td>\n",
       "    </tr>\n",
       "    <tr>\n",
       "      <th>1</th>\n",
       "      <td>2</td>\n",
       "      <td>2007-05-01</td>\n",
       "      <td>84</td>\n",
       "      <td>52</td>\n",
       "      <td>68</td>\n",
       "      <td>M</td>\n",
       "      <td>51</td>\n",
       "      <td>57</td>\n",
       "      <td>0</td>\n",
       "      <td>3</td>\n",
       "      <td>-</td>\n",
       "      <td>-</td>\n",
       "      <td></td>\n",
       "      <td>M</td>\n",
       "      <td>M</td>\n",
       "      <td>M</td>\n",
       "      <td>0.00</td>\n",
       "      <td>29.18</td>\n",
       "      <td>29.82</td>\n",
       "      <td>2.7</td>\n",
       "      <td>25</td>\n",
       "      <td>9.6</td>\n",
       "    </tr>\n",
       "    <tr>\n",
       "      <th>2</th>\n",
       "      <td>1</td>\n",
       "      <td>2007-05-02</td>\n",
       "      <td>59</td>\n",
       "      <td>42</td>\n",
       "      <td>51</td>\n",
       "      <td>-3</td>\n",
       "      <td>42</td>\n",
       "      <td>47</td>\n",
       "      <td>14</td>\n",
       "      <td>0</td>\n",
       "      <td>0447</td>\n",
       "      <td>1850</td>\n",
       "      <td>BR</td>\n",
       "      <td>0</td>\n",
       "      <td>M</td>\n",
       "      <td>0.0</td>\n",
       "      <td>0.00</td>\n",
       "      <td>29.38</td>\n",
       "      <td>30.09</td>\n",
       "      <td>13.0</td>\n",
       "      <td>4</td>\n",
       "      <td>13.4</td>\n",
       "    </tr>\n",
       "    <tr>\n",
       "      <th>3</th>\n",
       "      <td>2</td>\n",
       "      <td>2007-05-02</td>\n",
       "      <td>60</td>\n",
       "      <td>43</td>\n",
       "      <td>52</td>\n",
       "      <td>M</td>\n",
       "      <td>42</td>\n",
       "      <td>47</td>\n",
       "      <td>13</td>\n",
       "      <td>0</td>\n",
       "      <td>-</td>\n",
       "      <td>-</td>\n",
       "      <td>BR HZ</td>\n",
       "      <td>M</td>\n",
       "      <td>M</td>\n",
       "      <td>M</td>\n",
       "      <td>0.00</td>\n",
       "      <td>29.44</td>\n",
       "      <td>30.08</td>\n",
       "      <td>13.3</td>\n",
       "      <td>2</td>\n",
       "      <td>13.4</td>\n",
       "    </tr>\n",
       "    <tr>\n",
       "      <th>4</th>\n",
       "      <td>1</td>\n",
       "      <td>2007-05-03</td>\n",
       "      <td>66</td>\n",
       "      <td>46</td>\n",
       "      <td>56</td>\n",
       "      <td>2</td>\n",
       "      <td>40</td>\n",
       "      <td>48</td>\n",
       "      <td>9</td>\n",
       "      <td>0</td>\n",
       "      <td>0446</td>\n",
       "      <td>1851</td>\n",
       "      <td></td>\n",
       "      <td>0</td>\n",
       "      <td>M</td>\n",
       "      <td>0.0</td>\n",
       "      <td>0.00</td>\n",
       "      <td>29.39</td>\n",
       "      <td>30.12</td>\n",
       "      <td>11.7</td>\n",
       "      <td>7</td>\n",
       "      <td>11.9</td>\n",
       "    </tr>\n",
       "    <tr>\n",
       "      <th>5</th>\n",
       "      <td>2</td>\n",
       "      <td>2007-05-03</td>\n",
       "      <td>67</td>\n",
       "      <td>48</td>\n",
       "      <td>58</td>\n",
       "      <td>M</td>\n",
       "      <td>40</td>\n",
       "      <td>50</td>\n",
       "      <td>7</td>\n",
       "      <td>0</td>\n",
       "      <td>-</td>\n",
       "      <td>-</td>\n",
       "      <td>HZ</td>\n",
       "      <td>M</td>\n",
       "      <td>M</td>\n",
       "      <td>M</td>\n",
       "      <td>0.00</td>\n",
       "      <td>29.46</td>\n",
       "      <td>30.12</td>\n",
       "      <td>12.9</td>\n",
       "      <td>6</td>\n",
       "      <td>13.2</td>\n",
       "    </tr>\n",
       "    <tr>\n",
       "      <th>6</th>\n",
       "      <td>1</td>\n",
       "      <td>2007-05-04</td>\n",
       "      <td>66</td>\n",
       "      <td>49</td>\n",
       "      <td>58</td>\n",
       "      <td>4</td>\n",
       "      <td>41</td>\n",
       "      <td>50</td>\n",
       "      <td>7</td>\n",
       "      <td>0</td>\n",
       "      <td>0444</td>\n",
       "      <td>1852</td>\n",
       "      <td>RA</td>\n",
       "      <td>0</td>\n",
       "      <td>M</td>\n",
       "      <td>0.0</td>\n",
       "      <td>T</td>\n",
       "      <td>29.31</td>\n",
       "      <td>30.05</td>\n",
       "      <td>10.4</td>\n",
       "      <td>8</td>\n",
       "      <td>10.8</td>\n",
       "    </tr>\n",
       "    <tr>\n",
       "      <th>7</th>\n",
       "      <td>2</td>\n",
       "      <td>2007-05-04</td>\n",
       "      <td>78</td>\n",
       "      <td>51</td>\n",
       "      <td>M</td>\n",
       "      <td>M</td>\n",
       "      <td>42</td>\n",
       "      <td>50</td>\n",
       "      <td>M</td>\n",
       "      <td>M</td>\n",
       "      <td>-</td>\n",
       "      <td>-</td>\n",
       "      <td></td>\n",
       "      <td>M</td>\n",
       "      <td>M</td>\n",
       "      <td>M</td>\n",
       "      <td>0.00</td>\n",
       "      <td>29.36</td>\n",
       "      <td>30.04</td>\n",
       "      <td>10.1</td>\n",
       "      <td>7</td>\n",
       "      <td>10.4</td>\n",
       "    </tr>\n",
       "    <tr>\n",
       "      <th>8</th>\n",
       "      <td>1</td>\n",
       "      <td>2007-05-05</td>\n",
       "      <td>66</td>\n",
       "      <td>53</td>\n",
       "      <td>60</td>\n",
       "      <td>5</td>\n",
       "      <td>38</td>\n",
       "      <td>49</td>\n",
       "      <td>5</td>\n",
       "      <td>0</td>\n",
       "      <td>0443</td>\n",
       "      <td>1853</td>\n",
       "      <td></td>\n",
       "      <td>0</td>\n",
       "      <td>M</td>\n",
       "      <td>0.0</td>\n",
       "      <td>T</td>\n",
       "      <td>29.40</td>\n",
       "      <td>30.10</td>\n",
       "      <td>11.7</td>\n",
       "      <td>7</td>\n",
       "      <td>12.0</td>\n",
       "    </tr>\n",
       "    <tr>\n",
       "      <th>9</th>\n",
       "      <td>2</td>\n",
       "      <td>2007-05-05</td>\n",
       "      <td>66</td>\n",
       "      <td>54</td>\n",
       "      <td>60</td>\n",
       "      <td>M</td>\n",
       "      <td>39</td>\n",
       "      <td>50</td>\n",
       "      <td>5</td>\n",
       "      <td>0</td>\n",
       "      <td>-</td>\n",
       "      <td>-</td>\n",
       "      <td></td>\n",
       "      <td>M</td>\n",
       "      <td>M</td>\n",
       "      <td>M</td>\n",
       "      <td>T</td>\n",
       "      <td>29.46</td>\n",
       "      <td>30.09</td>\n",
       "      <td>11.2</td>\n",
       "      <td>7</td>\n",
       "      <td>11.5</td>\n",
       "    </tr>\n",
       "  </tbody>\n",
       "</table>\n",
       "</div>"
      ],
      "text/plain": [
       "   Station        Date  Tmax  Tmin Tavg Depart  DewPoint WetBulb Heat Cool  \\\n",
       "0        1  2007-05-01    83    50   67     14        51      56    0    2   \n",
       "1        2  2007-05-01    84    52   68      M        51      57    0    3   \n",
       "2        1  2007-05-02    59    42   51     -3        42      47   14    0   \n",
       "3        2  2007-05-02    60    43   52      M        42      47   13    0   \n",
       "4        1  2007-05-03    66    46   56      2        40      48    9    0   \n",
       "5        2  2007-05-03    67    48   58      M        40      50    7    0   \n",
       "6        1  2007-05-04    66    49   58      4        41      50    7    0   \n",
       "7        2  2007-05-04    78    51    M      M        42      50    M    M   \n",
       "8        1  2007-05-05    66    53   60      5        38      49    5    0   \n",
       "9        2  2007-05-05    66    54   60      M        39      50    5    0   \n",
       "\n",
       "  Sunrise Sunset CodeSum Depth Water1 SnowFall PrecipTotal StnPressure  \\\n",
       "0    0448   1849             0      M      0.0        0.00       29.10   \n",
       "1       -      -             M      M        M        0.00       29.18   \n",
       "2    0447   1850      BR     0      M      0.0        0.00       29.38   \n",
       "3       -      -   BR HZ     M      M        M        0.00       29.44   \n",
       "4    0446   1851             0      M      0.0        0.00       29.39   \n",
       "5       -      -      HZ     M      M        M        0.00       29.46   \n",
       "6    0444   1852      RA     0      M      0.0           T       29.31   \n",
       "7       -      -             M      M        M        0.00       29.36   \n",
       "8    0443   1853             0      M      0.0           T       29.40   \n",
       "9       -      -             M      M        M           T       29.46   \n",
       "\n",
       "  SeaLevel  ResultSpeed  ResultDir AvgSpeed  \n",
       "0    29.82          1.7         27      9.2  \n",
       "1    29.82          2.7         25      9.6  \n",
       "2    30.09         13.0          4     13.4  \n",
       "3    30.08         13.3          2     13.4  \n",
       "4    30.12         11.7          7     11.9  \n",
       "5    30.12         12.9          6     13.2  \n",
       "6    30.05         10.4          8     10.8  \n",
       "7    30.04         10.1          7     10.4  \n",
       "8    30.10         11.7          7     12.0  \n",
       "9    30.09         11.2          7     11.5  "
      ]
     },
     "execution_count": 5,
     "metadata": {},
     "output_type": "execute_result"
    }
   ],
   "source": [
    "weather.head(10)"
   ]
  },
  {
   "cell_type": "code",
   "execution_count": 6,
   "id": "7b90c052-fa60-4c66-b843-acc0f66d8f4f",
   "metadata": {},
   "outputs": [
    {
     "data": {
      "text/plain": [
       "Station        0\n",
       "Date           0\n",
       "Tmax           0\n",
       "Tmin           0\n",
       "Tavg           0\n",
       "Depart         0\n",
       "DewPoint       0\n",
       "WetBulb        0\n",
       "Heat           0\n",
       "Cool           0\n",
       "Sunrise        0\n",
       "Sunset         0\n",
       "CodeSum        0\n",
       "Depth          0\n",
       "Water1         0\n",
       "SnowFall       0\n",
       "PrecipTotal    0\n",
       "StnPressure    0\n",
       "SeaLevel       0\n",
       "ResultSpeed    0\n",
       "ResultDir      0\n",
       "AvgSpeed       0\n",
       "dtype: int64"
      ]
     },
     "execution_count": 6,
     "metadata": {},
     "output_type": "execute_result"
    }
   ],
   "source": [
    "weather.isnull().sum()"
   ]
  },
  {
   "cell_type": "code",
   "execution_count": 7,
   "id": "6b726021-e112-49f3-a578-d77d33092942",
   "metadata": {},
   "outputs": [
    {
     "data": {
      "text/html": [
       "<div>\n",
       "<style scoped>\n",
       "    .dataframe tbody tr th:only-of-type {\n",
       "        vertical-align: middle;\n",
       "    }\n",
       "\n",
       "    .dataframe tbody tr th {\n",
       "        vertical-align: top;\n",
       "    }\n",
       "\n",
       "    .dataframe thead th {\n",
       "        text-align: right;\n",
       "    }\n",
       "</style>\n",
       "<table border=\"1\" class=\"dataframe\">\n",
       "  <thead>\n",
       "    <tr style=\"text-align: right;\">\n",
       "      <th></th>\n",
       "      <th>Station</th>\n",
       "      <th>Date</th>\n",
       "      <th>Tmax</th>\n",
       "      <th>Tmin</th>\n",
       "      <th>Tavg</th>\n",
       "      <th>Depart</th>\n",
       "      <th>DewPoint</th>\n",
       "      <th>WetBulb</th>\n",
       "      <th>Heat</th>\n",
       "      <th>Cool</th>\n",
       "      <th>Sunrise</th>\n",
       "      <th>Sunset</th>\n",
       "      <th>CodeSum</th>\n",
       "      <th>Depth</th>\n",
       "      <th>Water1</th>\n",
       "      <th>SnowFall</th>\n",
       "      <th>PrecipTotal</th>\n",
       "      <th>StnPressure</th>\n",
       "      <th>SeaLevel</th>\n",
       "      <th>ResultSpeed</th>\n",
       "      <th>ResultDir</th>\n",
       "      <th>AvgSpeed</th>\n",
       "    </tr>\n",
       "  </thead>\n",
       "  <tbody>\n",
       "  </tbody>\n",
       "</table>\n",
       "</div>"
      ],
      "text/plain": [
       "Empty DataFrame\n",
       "Columns: [Station, Date, Tmax, Tmin, Tavg, Depart, DewPoint, WetBulb, Heat, Cool, Sunrise, Sunset, CodeSum, Depth, Water1, SnowFall, PrecipTotal, StnPressure, SeaLevel, ResultSpeed, ResultDir, AvgSpeed]\n",
       "Index: []"
      ]
     },
     "execution_count": 7,
     "metadata": {},
     "output_type": "execute_result"
    }
   ],
   "source": [
    "weather[weather.duplicated()]"
   ]
  },
  {
   "cell_type": "markdown",
   "id": "888387ce-4381-4667-8181-c29b0487ee7e",
   "metadata": {},
   "source": [
    "<b>Observation<b/> : \n",
    "\n",
    "1. Weather data columns has to be renamed into snake-case for naming convention.\n",
    "2. Date column need to change to datetime64 format.\n",
    "3. No missing values based on initial inspection and duplicates values. However, based on QC document, missing data is represented with 'M' or '-' and trace value is represented with 'T'. We will replace 'M' & '-' values as np.nan for now so that we can detect them.\n",
    "4. <b>CodeSum</b> contain empty string which represent normal weather based on QC document.\n",
    "5. The dtypes of some features are incorrect for their representative data. For example: <b>Tavg, Depart, WetBulb, Heat, Cool</b> and etc. We will convert all features except <b>Date, CodeSum, Sunset, Sunrise and Station</b>, values to float type for better analysis."
   ]
  },
  {
   "cell_type": "markdown",
   "id": "4e42b7f4-3d0d-44a2-ae2a-fbc4b49fe6ac",
   "metadata": {},
   "source": [
    "#### a) Renamed the weather data columns into snake-case for naming convention"
   ]
  },
  {
   "cell_type": "code",
   "execution_count": 8,
   "id": "18e0fcab-81de-43b5-97e1-0c36464e0434",
   "metadata": {},
   "outputs": [],
   "source": [
    "# Renaming the weather dataset columns into snake-case for naming convention\n",
    "\n",
    "weather.columns = weather.columns.str.lower()"
   ]
  },
  {
   "cell_type": "markdown",
   "id": "a86e7e2b-9959-4f97-92bc-9a1e5a2c2219",
   "metadata": {},
   "source": [
    "#### b) Turn date column from string object to datetime64"
   ]
  },
  {
   "cell_type": "code",
   "execution_count": 9,
   "id": "dc2bf391-7e4f-42df-b87d-8e24a3f0657d",
   "metadata": {},
   "outputs": [],
   "source": [
    "weather['date'] = pd.to_datetime(weather['date'])"
   ]
  },
  {
   "cell_type": "markdown",
   "id": "0504ffe5-3a26-4652-8adb-71f543e1e2cd",
   "metadata": {},
   "source": [
    "#### c) Replace 'M' & '-' values as np.nan"
   ]
  },
  {
   "cell_type": "code",
   "execution_count": 10,
   "id": "05243a91-7ffc-4771-9fad-4dc49b508c6d",
   "metadata": {},
   "outputs": [],
   "source": [
    "weather.replace('M', np.nan, inplace = True)\n",
    "weather.replace('-', np.nan, inplace = True)"
   ]
  },
  {
   "cell_type": "markdown",
   "id": "97bd8951-cc1f-4b79-b86c-4ba600ef9c47",
   "metadata": {},
   "source": [
    "#### d) Dropped water1, snowfall & depth variables due to high missing values"
   ]
  },
  {
   "cell_type": "code",
   "execution_count": 11,
   "id": "14920ae9-a3ea-4983-8475-977859704256",
   "metadata": {},
   "outputs": [],
   "source": [
    "# Define Function to create missing value dataframe \n",
    "\n",
    "def missing_val(df):\n",
    "    \n",
    "    df_miss = df.isna().sum().reset_index()\n",
    "    df_miss.columns = ['features', 'miss_val']\n",
    "    df_miss['percent'] = round((df_miss['miss_val'] / df.shape[0] * 100 ), 2)\n",
    "    df_miss = df_miss[df_miss['miss_val'] != 0].sort_values('miss_val', ascending = False)\n",
    "    \n",
    "    # Total number of features with missing values\n",
    "    print(f'\\nTotal number of features with missing values: {df_miss.shape[0]}\\n')\n",
    "    return df_miss"
   ]
  },
  {
   "cell_type": "code",
   "execution_count": 12,
   "id": "0119d723-8701-43e5-9692-6a10cd9f40ca",
   "metadata": {},
   "outputs": [
    {
     "name": "stdout",
     "output_type": "stream",
     "text": [
      "\n",
      "Total number of features with missing values: 14\n",
      "\n"
     ]
    },
    {
     "data": {
      "text/html": [
       "<div>\n",
       "<style scoped>\n",
       "    .dataframe tbody tr th:only-of-type {\n",
       "        vertical-align: middle;\n",
       "    }\n",
       "\n",
       "    .dataframe tbody tr th {\n",
       "        vertical-align: top;\n",
       "    }\n",
       "\n",
       "    .dataframe thead th {\n",
       "        text-align: right;\n",
       "    }\n",
       "</style>\n",
       "<table border=\"1\" class=\"dataframe\">\n",
       "  <thead>\n",
       "    <tr style=\"text-align: right;\">\n",
       "      <th></th>\n",
       "      <th>features</th>\n",
       "      <th>miss_val</th>\n",
       "      <th>percent</th>\n",
       "    </tr>\n",
       "  </thead>\n",
       "  <tbody>\n",
       "    <tr>\n",
       "      <th>14</th>\n",
       "      <td>water1</td>\n",
       "      <td>2944</td>\n",
       "      <td>100.00</td>\n",
       "    </tr>\n",
       "    <tr>\n",
       "      <th>5</th>\n",
       "      <td>depart</td>\n",
       "      <td>1472</td>\n",
       "      <td>50.00</td>\n",
       "    </tr>\n",
       "    <tr>\n",
       "      <th>10</th>\n",
       "      <td>sunrise</td>\n",
       "      <td>1472</td>\n",
       "      <td>50.00</td>\n",
       "    </tr>\n",
       "    <tr>\n",
       "      <th>11</th>\n",
       "      <td>sunset</td>\n",
       "      <td>1472</td>\n",
       "      <td>50.00</td>\n",
       "    </tr>\n",
       "    <tr>\n",
       "      <th>13</th>\n",
       "      <td>depth</td>\n",
       "      <td>1472</td>\n",
       "      <td>50.00</td>\n",
       "    </tr>\n",
       "    <tr>\n",
       "      <th>15</th>\n",
       "      <td>snowfall</td>\n",
       "      <td>1472</td>\n",
       "      <td>50.00</td>\n",
       "    </tr>\n",
       "    <tr>\n",
       "      <th>4</th>\n",
       "      <td>tavg</td>\n",
       "      <td>11</td>\n",
       "      <td>0.37</td>\n",
       "    </tr>\n",
       "    <tr>\n",
       "      <th>8</th>\n",
       "      <td>heat</td>\n",
       "      <td>11</td>\n",
       "      <td>0.37</td>\n",
       "    </tr>\n",
       "    <tr>\n",
       "      <th>9</th>\n",
       "      <td>cool</td>\n",
       "      <td>11</td>\n",
       "      <td>0.37</td>\n",
       "    </tr>\n",
       "    <tr>\n",
       "      <th>18</th>\n",
       "      <td>sealevel</td>\n",
       "      <td>9</td>\n",
       "      <td>0.31</td>\n",
       "    </tr>\n",
       "    <tr>\n",
       "      <th>7</th>\n",
       "      <td>wetbulb</td>\n",
       "      <td>4</td>\n",
       "      <td>0.14</td>\n",
       "    </tr>\n",
       "    <tr>\n",
       "      <th>17</th>\n",
       "      <td>stnpressure</td>\n",
       "      <td>4</td>\n",
       "      <td>0.14</td>\n",
       "    </tr>\n",
       "    <tr>\n",
       "      <th>21</th>\n",
       "      <td>avgspeed</td>\n",
       "      <td>3</td>\n",
       "      <td>0.10</td>\n",
       "    </tr>\n",
       "    <tr>\n",
       "      <th>16</th>\n",
       "      <td>preciptotal</td>\n",
       "      <td>2</td>\n",
       "      <td>0.07</td>\n",
       "    </tr>\n",
       "  </tbody>\n",
       "</table>\n",
       "</div>"
      ],
      "text/plain": [
       "       features  miss_val  percent\n",
       "14       water1      2944   100.00\n",
       "5        depart      1472    50.00\n",
       "10      sunrise      1472    50.00\n",
       "11       sunset      1472    50.00\n",
       "13        depth      1472    50.00\n",
       "15     snowfall      1472    50.00\n",
       "4          tavg        11     0.37\n",
       "8          heat        11     0.37\n",
       "9          cool        11     0.37\n",
       "18     sealevel         9     0.31\n",
       "7       wetbulb         4     0.14\n",
       "17  stnpressure         4     0.14\n",
       "21     avgspeed         3     0.10\n",
       "16  preciptotal         2     0.07"
      ]
     },
     "execution_count": 12,
     "metadata": {},
     "output_type": "execute_result"
    }
   ],
   "source": [
    "missing_val(weather)"
   ]
  },
  {
   "cell_type": "code",
   "execution_count": 13,
   "id": "df515845-9eb3-40c2-b030-540e4b0c2cd3",
   "metadata": {},
   "outputs": [
    {
     "data": {
      "text/plain": [
       "preciptotal    318\n",
       "snowfall        12\n",
       "dtype: int64"
      ]
     },
     "execution_count": 13,
     "metadata": {},
     "output_type": "execute_result"
    }
   ],
   "source": [
    "weather.isin(['  T']).sum()[weather.isin(['  T']).sum()> 0].sort_values(ascending = False)"
   ]
  },
  {
   "cell_type": "code",
   "execution_count": 14,
   "id": "e4ef8fc6-f2dd-4761-8f17-0c9aebccca24",
   "metadata": {},
   "outputs": [
    {
     "data": {
      "text/plain": [
       "snowfall    1459\n",
       "dtype: int64"
      ]
     },
     "execution_count": 14,
     "metadata": {},
     "output_type": "execute_result"
    }
   ],
   "source": [
    "weather.isin(['0.0']).sum()[weather.isin(['0.0']).sum()> 0].sort_values(ascending = False)"
   ]
  },
  {
   "cell_type": "code",
   "execution_count": 15,
   "id": "082a1aa6-a1da-42cd-8899-28e82c59f52f",
   "metadata": {},
   "outputs": [
    {
     "data": {
      "text/plain": [
       "heat     1870\n",
       "depth    1472\n",
       "dtype: int64"
      ]
     },
     "execution_count": 15,
     "metadata": {},
     "output_type": "execute_result"
    }
   ],
   "source": [
    "weather.isin(['0']).sum()[weather.isin(['0']).sum()> 0].sort_values(ascending = False)"
   ]
  },
  {
   "cell_type": "markdown",
   "id": "4bf6f9ee-da0c-46f1-8af8-a98bd2405071",
   "metadata": {},
   "source": [
    "<b>Observation<b/> : \n",
    "\n",
    "1. <b>water1, snowfall & depth</b> variables have too many missing values so we decided to drop the variables.\n",
    "2. <b>depart, sunrise & sunset</b> values of station 2 are missing/ not available. We will impute <b>depart, sunrise & sunset</b> of station 2 with station 1 values using 'forward fill' method since the date of last valid observation(station 1) before missing value(station 2) is same. \n",
    "3. <b>tavg, heat & cool</b> variables have 11 missing values only, we will impute the missing values.\n",
    "4. <b>sealevel, wetbulb, stnpressure, avgspeed & preciptotal</b> variables have less than 0.5% of missing value only, we will impute the missing values with either median, mean or mode after exploration.\n",
    "5. <b>preciptotal</b> variable has 318 trace values. According to meteorologist, the amount of precipitation, such as rain or snow, that is greater than zero but less than 0.01 inch of rain is reported as trace value. The lowest value in <b>preciptotal</b> is 0 and the second lowest is 0.01, we will choose the median 0.005 and replace the trace values."
   ]
  },
  {
   "cell_type": "code",
   "execution_count": 16,
   "id": "ae0b6afe-7417-4b86-8712-17486f0a748e",
   "metadata": {},
   "outputs": [],
   "source": [
    "weather.drop(columns = ['water1', 'snowfall', 'depth'], inplace = True)"
   ]
  },
  {
   "cell_type": "markdown",
   "id": "12c90430-6fb5-45bb-8ea6-efa5b069c1d0",
   "metadata": {},
   "source": [
    "#### e) Imputed missing values for daily average temperature tavg with average of tmax and tmin and calculated missing values for cool and heat by subtracting tavg from base 65 F"
   ]
  },
  {
   "cell_type": "code",
   "execution_count": 17,
   "id": "4f8ad25f-88d8-4db7-aca7-2fc006c74c93",
   "metadata": {},
   "outputs": [],
   "source": [
    "# Function to impute Average Temperature, Cooling and Heating Degrees\n",
    "def impute_temp_heat_cool(row):\n",
    "    \n",
    "    # Impute missing values for Tavg\n",
    "    if row['tavg'] is np.nan:\n",
    "        row['tavg'] = round((row['tmax'] + row['tmin'])/2)\n",
    "        \n",
    "    # Impute missing values for Cool and Warm with degree Base 65F as per document\n",
    "    if row['heat'] is np.nan or row['cool'] is np.nan:\n",
    "        \n",
    "        impute_val = 65 - row['tavg']\n",
    "        \n",
    "        if impute_val < 0:\n",
    "            row['cool'] = -impute_val\n",
    "            row['heat'] = 0\n",
    "        \n",
    "        elif impute_val > 0:\n",
    "            row['heat'] = impute_val\n",
    "            row['cool'] = 0\n",
    "            \n",
    "        else:\n",
    "            row['heat'] = row['cool'] = 0\n",
    "    \n",
    "    return row"
   ]
  },
  {
   "cell_type": "code",
   "execution_count": 18,
   "id": "935b1f5d-e777-4ddc-af9f-0244ab70ab57",
   "metadata": {},
   "outputs": [],
   "source": [
    "weather = weather.apply(impute_temp_heat_cool, axis = 1)"
   ]
  },
  {
   "cell_type": "code",
   "execution_count": 19,
   "id": "c7b76cef-fd0a-4cba-91c2-14a615daf478",
   "metadata": {},
   "outputs": [
    {
     "data": {
      "text/html": [
       "<div>\n",
       "<style scoped>\n",
       "    .dataframe tbody tr th:only-of-type {\n",
       "        vertical-align: middle;\n",
       "    }\n",
       "\n",
       "    .dataframe tbody tr th {\n",
       "        vertical-align: top;\n",
       "    }\n",
       "\n",
       "    .dataframe thead th {\n",
       "        text-align: right;\n",
       "    }\n",
       "</style>\n",
       "<table border=\"1\" class=\"dataframe\">\n",
       "  <thead>\n",
       "    <tr style=\"text-align: right;\">\n",
       "      <th></th>\n",
       "      <th>station</th>\n",
       "      <th>date</th>\n",
       "      <th>tmax</th>\n",
       "      <th>tmin</th>\n",
       "      <th>tavg</th>\n",
       "      <th>depart</th>\n",
       "      <th>dewpoint</th>\n",
       "      <th>wetbulb</th>\n",
       "      <th>heat</th>\n",
       "      <th>cool</th>\n",
       "      <th>sunrise</th>\n",
       "      <th>sunset</th>\n",
       "      <th>codesum</th>\n",
       "      <th>preciptotal</th>\n",
       "      <th>stnpressure</th>\n",
       "      <th>sealevel</th>\n",
       "      <th>resultspeed</th>\n",
       "      <th>resultdir</th>\n",
       "      <th>avgspeed</th>\n",
       "    </tr>\n",
       "  </thead>\n",
       "  <tbody>\n",
       "    <tr>\n",
       "      <th>0</th>\n",
       "      <td>1</td>\n",
       "      <td>2007-05-01</td>\n",
       "      <td>83</td>\n",
       "      <td>50</td>\n",
       "      <td>67</td>\n",
       "      <td>14</td>\n",
       "      <td>51</td>\n",
       "      <td>56</td>\n",
       "      <td>0</td>\n",
       "      <td>2</td>\n",
       "      <td>0448</td>\n",
       "      <td>1849</td>\n",
       "      <td></td>\n",
       "      <td>0.00</td>\n",
       "      <td>29.10</td>\n",
       "      <td>29.82</td>\n",
       "      <td>1.7</td>\n",
       "      <td>27</td>\n",
       "      <td>9.2</td>\n",
       "    </tr>\n",
       "    <tr>\n",
       "      <th>1</th>\n",
       "      <td>2</td>\n",
       "      <td>2007-05-01</td>\n",
       "      <td>84</td>\n",
       "      <td>52</td>\n",
       "      <td>68</td>\n",
       "      <td>NaN</td>\n",
       "      <td>51</td>\n",
       "      <td>57</td>\n",
       "      <td>0</td>\n",
       "      <td>3</td>\n",
       "      <td>NaN</td>\n",
       "      <td>NaN</td>\n",
       "      <td></td>\n",
       "      <td>0.00</td>\n",
       "      <td>29.18</td>\n",
       "      <td>29.82</td>\n",
       "      <td>2.7</td>\n",
       "      <td>25</td>\n",
       "      <td>9.6</td>\n",
       "    </tr>\n",
       "    <tr>\n",
       "      <th>2</th>\n",
       "      <td>1</td>\n",
       "      <td>2007-05-02</td>\n",
       "      <td>59</td>\n",
       "      <td>42</td>\n",
       "      <td>51</td>\n",
       "      <td>-3</td>\n",
       "      <td>42</td>\n",
       "      <td>47</td>\n",
       "      <td>14</td>\n",
       "      <td>0</td>\n",
       "      <td>0447</td>\n",
       "      <td>1850</td>\n",
       "      <td>BR</td>\n",
       "      <td>0.00</td>\n",
       "      <td>29.38</td>\n",
       "      <td>30.09</td>\n",
       "      <td>13.0</td>\n",
       "      <td>4</td>\n",
       "      <td>13.4</td>\n",
       "    </tr>\n",
       "    <tr>\n",
       "      <th>3</th>\n",
       "      <td>2</td>\n",
       "      <td>2007-05-02</td>\n",
       "      <td>60</td>\n",
       "      <td>43</td>\n",
       "      <td>52</td>\n",
       "      <td>NaN</td>\n",
       "      <td>42</td>\n",
       "      <td>47</td>\n",
       "      <td>13</td>\n",
       "      <td>0</td>\n",
       "      <td>NaN</td>\n",
       "      <td>NaN</td>\n",
       "      <td>BR HZ</td>\n",
       "      <td>0.00</td>\n",
       "      <td>29.44</td>\n",
       "      <td>30.08</td>\n",
       "      <td>13.3</td>\n",
       "      <td>2</td>\n",
       "      <td>13.4</td>\n",
       "    </tr>\n",
       "    <tr>\n",
       "      <th>4</th>\n",
       "      <td>1</td>\n",
       "      <td>2007-05-03</td>\n",
       "      <td>66</td>\n",
       "      <td>46</td>\n",
       "      <td>56</td>\n",
       "      <td>2</td>\n",
       "      <td>40</td>\n",
       "      <td>48</td>\n",
       "      <td>9</td>\n",
       "      <td>0</td>\n",
       "      <td>0446</td>\n",
       "      <td>1851</td>\n",
       "      <td></td>\n",
       "      <td>0.00</td>\n",
       "      <td>29.39</td>\n",
       "      <td>30.12</td>\n",
       "      <td>11.7</td>\n",
       "      <td>7</td>\n",
       "      <td>11.9</td>\n",
       "    </tr>\n",
       "    <tr>\n",
       "      <th>5</th>\n",
       "      <td>2</td>\n",
       "      <td>2007-05-03</td>\n",
       "      <td>67</td>\n",
       "      <td>48</td>\n",
       "      <td>58</td>\n",
       "      <td>NaN</td>\n",
       "      <td>40</td>\n",
       "      <td>50</td>\n",
       "      <td>7</td>\n",
       "      <td>0</td>\n",
       "      <td>NaN</td>\n",
       "      <td>NaN</td>\n",
       "      <td>HZ</td>\n",
       "      <td>0.00</td>\n",
       "      <td>29.46</td>\n",
       "      <td>30.12</td>\n",
       "      <td>12.9</td>\n",
       "      <td>6</td>\n",
       "      <td>13.2</td>\n",
       "    </tr>\n",
       "    <tr>\n",
       "      <th>6</th>\n",
       "      <td>1</td>\n",
       "      <td>2007-05-04</td>\n",
       "      <td>66</td>\n",
       "      <td>49</td>\n",
       "      <td>58</td>\n",
       "      <td>4</td>\n",
       "      <td>41</td>\n",
       "      <td>50</td>\n",
       "      <td>7</td>\n",
       "      <td>0</td>\n",
       "      <td>0444</td>\n",
       "      <td>1852</td>\n",
       "      <td>RA</td>\n",
       "      <td>T</td>\n",
       "      <td>29.31</td>\n",
       "      <td>30.05</td>\n",
       "      <td>10.4</td>\n",
       "      <td>8</td>\n",
       "      <td>10.8</td>\n",
       "    </tr>\n",
       "    <tr>\n",
       "      <th>7</th>\n",
       "      <td>2</td>\n",
       "      <td>2007-05-04</td>\n",
       "      <td>78</td>\n",
       "      <td>51</td>\n",
       "      <td>64</td>\n",
       "      <td>NaN</td>\n",
       "      <td>42</td>\n",
       "      <td>50</td>\n",
       "      <td>1</td>\n",
       "      <td>0</td>\n",
       "      <td>NaN</td>\n",
       "      <td>NaN</td>\n",
       "      <td></td>\n",
       "      <td>0.00</td>\n",
       "      <td>29.36</td>\n",
       "      <td>30.04</td>\n",
       "      <td>10.1</td>\n",
       "      <td>7</td>\n",
       "      <td>10.4</td>\n",
       "    </tr>\n",
       "    <tr>\n",
       "      <th>8</th>\n",
       "      <td>1</td>\n",
       "      <td>2007-05-05</td>\n",
       "      <td>66</td>\n",
       "      <td>53</td>\n",
       "      <td>60</td>\n",
       "      <td>5</td>\n",
       "      <td>38</td>\n",
       "      <td>49</td>\n",
       "      <td>5</td>\n",
       "      <td>0</td>\n",
       "      <td>0443</td>\n",
       "      <td>1853</td>\n",
       "      <td></td>\n",
       "      <td>T</td>\n",
       "      <td>29.40</td>\n",
       "      <td>30.10</td>\n",
       "      <td>11.7</td>\n",
       "      <td>7</td>\n",
       "      <td>12.0</td>\n",
       "    </tr>\n",
       "    <tr>\n",
       "      <th>9</th>\n",
       "      <td>2</td>\n",
       "      <td>2007-05-05</td>\n",
       "      <td>66</td>\n",
       "      <td>54</td>\n",
       "      <td>60</td>\n",
       "      <td>NaN</td>\n",
       "      <td>39</td>\n",
       "      <td>50</td>\n",
       "      <td>5</td>\n",
       "      <td>0</td>\n",
       "      <td>NaN</td>\n",
       "      <td>NaN</td>\n",
       "      <td></td>\n",
       "      <td>T</td>\n",
       "      <td>29.46</td>\n",
       "      <td>30.09</td>\n",
       "      <td>11.2</td>\n",
       "      <td>7</td>\n",
       "      <td>11.5</td>\n",
       "    </tr>\n",
       "  </tbody>\n",
       "</table>\n",
       "</div>"
      ],
      "text/plain": [
       "   station       date  tmax  tmin tavg depart  dewpoint wetbulb heat cool  \\\n",
       "0        1 2007-05-01    83    50   67     14        51      56    0    2   \n",
       "1        2 2007-05-01    84    52   68    NaN        51      57    0    3   \n",
       "2        1 2007-05-02    59    42   51     -3        42      47   14    0   \n",
       "3        2 2007-05-02    60    43   52    NaN        42      47   13    0   \n",
       "4        1 2007-05-03    66    46   56      2        40      48    9    0   \n",
       "5        2 2007-05-03    67    48   58    NaN        40      50    7    0   \n",
       "6        1 2007-05-04    66    49   58      4        41      50    7    0   \n",
       "7        2 2007-05-04    78    51   64    NaN        42      50    1    0   \n",
       "8        1 2007-05-05    66    53   60      5        38      49    5    0   \n",
       "9        2 2007-05-05    66    54   60    NaN        39      50    5    0   \n",
       "\n",
       "  sunrise sunset codesum preciptotal stnpressure sealevel  resultspeed  \\\n",
       "0    0448   1849                0.00       29.10    29.82          1.7   \n",
       "1     NaN    NaN                0.00       29.18    29.82          2.7   \n",
       "2    0447   1850      BR        0.00       29.38    30.09         13.0   \n",
       "3     NaN    NaN   BR HZ        0.00       29.44    30.08         13.3   \n",
       "4    0446   1851                0.00       29.39    30.12         11.7   \n",
       "5     NaN    NaN      HZ        0.00       29.46    30.12         12.9   \n",
       "6    0444   1852      RA           T       29.31    30.05         10.4   \n",
       "7     NaN    NaN                0.00       29.36    30.04         10.1   \n",
       "8    0443   1853                   T       29.40    30.10         11.7   \n",
       "9     NaN    NaN                   T       29.46    30.09         11.2   \n",
       "\n",
       "   resultdir avgspeed  \n",
       "0         27      9.2  \n",
       "1         25      9.6  \n",
       "2          4     13.4  \n",
       "3          2     13.4  \n",
       "4          7     11.9  \n",
       "5          6     13.2  \n",
       "6          8     10.8  \n",
       "7          7     10.4  \n",
       "8          7     12.0  \n",
       "9          7     11.5  "
      ]
     },
     "execution_count": 19,
     "metadata": {},
     "output_type": "execute_result"
    }
   ],
   "source": [
    "weather.head(10)"
   ]
  },
  {
   "cell_type": "markdown",
   "id": "ede4b423-97d4-4201-997b-807ff36583ae",
   "metadata": {},
   "source": [
    "#### f) Imputed 'T' or trace values as 0.005"
   ]
  },
  {
   "cell_type": "code",
   "execution_count": 20,
   "id": "40d09ffa-2841-4259-b17a-17be0a4c5d65",
   "metadata": {},
   "outputs": [],
   "source": [
    "weather.replace('  T', 0.005, inplace = True)"
   ]
  },
  {
   "cell_type": "markdown",
   "id": "387eb329-7aeb-4a84-b6f6-b6eeb4ee65c9",
   "metadata": {},
   "source": [
    "#### g) Transformed all features except date, codesum and station into float values"
   ]
  },
  {
   "cell_type": "code",
   "execution_count": 21,
   "id": "75bd4149-2a7e-4dec-8880-bd4bf8b06ae5",
   "metadata": {},
   "outputs": [],
   "source": [
    "float_cols = [col for col in weather.columns if col not in ['date', 'codesum', 'station']]\n",
    "\n",
    "weather[float_cols] = weather[float_cols].astype('float')"
   ]
  },
  {
   "cell_type": "markdown",
   "id": "ea8b5301-f813-435a-b25b-7fce712cadf8",
   "metadata": {},
   "source": [
    "#### h) Imputed missing values for wetbulb, preciptotal, stnpressure, sealevel, avgspeed using median value"
   ]
  },
  {
   "cell_type": "markdown",
   "id": "3ccdb793-96ed-476d-8506-d8e482db1b74",
   "metadata": {},
   "source": [
    "##### wetbulb"
   ]
  },
  {
   "cell_type": "code",
   "execution_count": 22,
   "id": "04309245-7cd2-4929-9e63-3c83a2901226",
   "metadata": {},
   "outputs": [
    {
     "data": {
      "image/png": "[encoded data removed]",
      "text/plain": [
       "<Figure size 720x360 with 1 Axes>"
      ]
     },
     "metadata": {
      "needs_background": "light"
     },
     "output_type": "display_data"
    }
   ],
   "source": [
    "plt.figure(figsize = (10,5))\n",
    "sns.boxplot(data = weather, x = 'wetbulb')\n",
    "plt.title(\"Boxplot of  Wet-Bulb Temperature(F)\")\n",
    "plt.show()"
   ]
  },
  {
   "cell_type": "code",
   "execution_count": 23,
   "id": "d16590a2-b0ce-415f-a1cb-e5c535205efa",
   "metadata": {},
   "outputs": [
    {
     "data": {
      "text/plain": [
       "count    2940.000000\n",
       "mean       59.310884\n",
       "std         9.286742\n",
       "min        32.000000\n",
       "25%        53.000000\n",
       "50%        61.000000\n",
       "75%        67.000000\n",
       "max        78.000000\n",
       "Name: wetbulb, dtype: float64"
      ]
     },
     "execution_count": 23,
     "metadata": {},
     "output_type": "execute_result"
    }
   ],
   "source": [
    "weather['wetbulb'].describe()"
   ]
  },
  {
   "cell_type": "markdown",
   "id": "5d34e64a-3174-4e91-9254-975d3fd44c1f",
   "metadata": {},
   "source": [
    "<b>Observation<b/> : \n",
    "\n",
    "1. Based on the <b>wetbulb</b> variable boxplot, most of the values are between 53 - 67 with 61 as median. Also, the descriptive statistics show the mean value of <b>wetbulb</b> is 59 which is quite close to median. In this case, we will use median to fill in the null values."
   ]
  },
  {
   "cell_type": "code",
   "execution_count": 24,
   "id": "e4483441-ff52-4d70-b8ea-61ef11023fb1",
   "metadata": {},
   "outputs": [],
   "source": [
    "weather['wetbulb'] = weather['wetbulb'].fillna(weather['wetbulb'].median())"
   ]
  },
  {
   "cell_type": "markdown",
   "id": "84648ffe-eb79-4a4a-8071-31139a0e84a8",
   "metadata": {},
   "source": [
    " "
   ]
  },
  {
   "cell_type": "markdown",
   "id": "ed57020c-8593-4445-a260-fb2600547e0a",
   "metadata": {},
   "source": [
    "##### preciptotal"
   ]
  },
  {
   "cell_type": "code",
   "execution_count": 25,
   "id": "fb9ae006-eae9-4669-b4ac-01862b0790a0",
   "metadata": {},
   "outputs": [
    {
     "data": {
      "image/png": "[encoded data removed]",
      "text/plain": [
       "<Figure size 720x360 with 1 Axes>"
      ]
     },
     "metadata": {
      "needs_background": "light"
     },
     "output_type": "display_data"
    }
   ],
   "source": [
    "plt.figure(figsize = (10,5))\n",
    "sns.boxplot(data = weather, x = 'preciptotal')\n",
    "plt.title(\"Boxplot of  Total Precipitation(in)\")\n",
    "plt.show()"
   ]
  },
  {
   "cell_type": "code",
   "execution_count": 26,
   "id": "26144c4d-0b59-4363-b7ef-4714564461eb",
   "metadata": {},
   "outputs": [
    {
     "data": {
      "text/plain": [
       "count    2942.000000\n",
       "mean        0.131869\n",
       "std         0.393150\n",
       "min         0.000000\n",
       "25%         0.000000\n",
       "50%         0.000000\n",
       "75%         0.060000\n",
       "max         6.860000\n",
       "Name: preciptotal, dtype: float64"
      ]
     },
     "execution_count": 26,
     "metadata": {},
     "output_type": "execute_result"
    }
   ],
   "source": [
    "weather['preciptotal'].describe()"
   ]
  },
  {
   "cell_type": "markdown",
   "id": "317d9c74-cbc1-4b05-9379-d398c765bd25",
   "metadata": {},
   "source": [
    "<b>Observation<b/> : \n",
    "\n",
    "1. Based on the <b>preciptotal</b> variable boxplot, there are a lot of outliers. Most of the values are between 0 - 0.06 with 0 as median. However, the descriptive statistics show the mean value of <b>preciptotal</b> is 0.13 which is very far from median. In this case, we will use median to fill in the null values."
   ]
  },
  {
   "cell_type": "code",
   "execution_count": 27,
   "id": "04980299-57df-45c8-b22b-e9faeceb6d04",
   "metadata": {},
   "outputs": [],
   "source": [
    "weather['preciptotal'] = weather['preciptotal'].fillna(weather['preciptotal'].median())"
   ]
  },
  {
   "cell_type": "markdown",
   "id": "b4833950-6323-4d50-ac6b-4d7921b41c17",
   "metadata": {},
   "source": [
    " "
   ]
  },
  {
   "cell_type": "markdown",
   "id": "fbd671be-fd8c-42b3-8bc0-9b94540080dd",
   "metadata": {},
   "source": [
    "##### sealevel"
   ]
  },
  {
   "cell_type": "code",
   "execution_count": 28,
   "id": "af69b75b-321e-4dbb-9671-c4baccb33ce7",
   "metadata": {},
   "outputs": [
    {
     "data": {
      "image/png": "[encoded data removed]",
      "text/plain": [
       "<Figure size 720x360 with 1 Axes>"
      ]
     },
     "metadata": {
      "needs_background": "light"
     },
     "output_type": "display_data"
    }
   ],
   "source": [
    "plt.figure(figsize = (10,5))\n",
    "sns.boxplot(data = weather, x = 'sealevel')\n",
    "plt.title(\"Boxplot of  Sea Level Pressure(inHg)\")\n",
    "plt.show()"
   ]
  },
  {
   "cell_type": "code",
   "execution_count": 29,
   "id": "ad537ab6-41a1-418e-9121-34b951d8bc03",
   "metadata": {},
   "outputs": [
    {
     "data": {
      "text/plain": [
       "count    2935.000000\n",
       "mean       29.968129\n",
       "std         0.158597\n",
       "min        29.230000\n",
       "25%        29.870000\n",
       "50%        29.970000\n",
       "75%        30.060000\n",
       "max        30.530000\n",
       "Name: sealevel, dtype: float64"
      ]
     },
     "execution_count": 29,
     "metadata": {},
     "output_type": "execute_result"
    }
   ],
   "source": [
    "weather['sealevel'].describe()"
   ]
  },
  {
   "cell_type": "markdown",
   "id": "6062a399-a741-4813-8f42-e67783c2697f",
   "metadata": {},
   "source": [
    "<b>Observation<b/> : \n",
    "\n",
    "1. Based on the <b>sealevel</b> variable boxplot, there are a number of outliers. Most of the values are between 29.8 - 30 with 29.9 as median. Also, the descriptive statistics show the mean value of <b>sealevel</b> is 29.9 which is same as median. In this case, we will use median to fill in the null values."
   ]
  },
  {
   "cell_type": "code",
   "execution_count": 30,
   "id": "9258cd00-b618-47bd-b40e-e52a9eef3c1b",
   "metadata": {},
   "outputs": [],
   "source": [
    "weather['sealevel'] = weather['sealevel'].fillna(weather['sealevel'].median())"
   ]
  },
  {
   "cell_type": "markdown",
   "id": "f07bf7a9-115f-4263-93f3-58563f9ab2e3",
   "metadata": {},
   "source": [
    " "
   ]
  },
  {
   "cell_type": "markdown",
   "id": "7bcc9863-5d44-455e-94d4-2ec4eb1b147d",
   "metadata": {},
   "source": [
    "##### stnpressure"
   ]
  },
  {
   "cell_type": "code",
   "execution_count": 31,
   "id": "e1144c90-2014-476c-bf76-15cd69130768",
   "metadata": {},
   "outputs": [
    {
     "data": {
      "image/png": "[encoded data removed]",
      "text/plain": [
       "<Figure size 720x360 with 1 Axes>"
      ]
     },
     "metadata": {
      "needs_background": "light"
     },
     "output_type": "display_data"
    }
   ],
   "source": [
    "plt.figure(figsize = (10,5))\n",
    "sns.boxplot(data = weather, x = 'stnpressure')\n",
    "plt.title(\"Boxplot of  Station Pressure(inHg)\")\n",
    "plt.show()"
   ]
  },
  {
   "cell_type": "code",
   "execution_count": 32,
   "id": "bcaf23eb-899c-46de-b1ee-6fc28ac5e563",
   "metadata": {},
   "outputs": [
    {
     "data": {
      "text/plain": [
       "count    2940.000000\n",
       "mean       29.284429\n",
       "std         0.158543\n",
       "min        28.550000\n",
       "25%        29.190000\n",
       "50%        29.280000\n",
       "75%        29.390000\n",
       "max        29.860000\n",
       "Name: stnpressure, dtype: float64"
      ]
     },
     "execution_count": 32,
     "metadata": {},
     "output_type": "execute_result"
    }
   ],
   "source": [
    "weather['stnpressure'].describe()"
   ]
  },
  {
   "cell_type": "markdown",
   "id": "fda41cb5-c735-471a-a835-5570b6c082f9",
   "metadata": {},
   "source": [
    "<b>Observation<b/> : \n",
    "\n",
    "1. Based on the <b>stnpressure</b> variable boxplot, there are a number of outliers. Most of the values are between 28.5 - 29.3 with 29.2 as median. Also, the descriptive statistics show the mean value of <b>stnpressure</b> is 29.2 which is same as median. In this case, we will use median to fill in the null values."
   ]
  },
  {
   "cell_type": "code",
   "execution_count": 33,
   "id": "25e29fbb-2ffe-42db-b12f-482bcc08f083",
   "metadata": {},
   "outputs": [],
   "source": [
    "weather['stnpressure'] = weather['stnpressure'].fillna(weather['stnpressure'].median())"
   ]
  },
  {
   "cell_type": "markdown",
   "id": "c5a61f04-306d-488d-a3e5-7d8ad7a83609",
   "metadata": {},
   "source": [
    " "
   ]
  },
  {
   "cell_type": "markdown",
   "id": "e7354b37-9368-459c-8e67-4218b4d9392c",
   "metadata": {},
   "source": [
    "##### avgspeed"
   ]
  },
  {
   "cell_type": "code",
   "execution_count": 34,
   "id": "7aa1dfe4-64e5-4b33-a972-e9406bd7b69e",
   "metadata": {},
   "outputs": [
    {
     "data": {
      "image/png": "[encoded data removed]",
      "text/plain": [
       "<Figure size 720x360 with 1 Axes>"
      ]
     },
     "metadata": {
      "needs_background": "light"
     },
     "output_type": "display_data"
    }
   ],
   "source": [
    "plt.figure(figsize = (10,5))\n",
    "sns.boxplot(data = weather, x = 'avgspeed')\n",
    "plt.title(\"Boxplot of  Average Wind Speed(mph)\")\n",
    "plt.show()"
   ]
  },
  {
   "cell_type": "code",
   "execution_count": 35,
   "id": "f38b1c85-ac13-4a16-a8e1-d181731866e5",
   "metadata": {},
   "outputs": [
    {
     "data": {
      "text/plain": [
       "count    2941.000000\n",
       "mean        8.580449\n",
       "std         3.147300\n",
       "min         1.700000\n",
       "25%         6.300000\n",
       "50%         8.100000\n",
       "75%        10.400000\n",
       "max        26.300000\n",
       "Name: avgspeed, dtype: float64"
      ]
     },
     "execution_count": 35,
     "metadata": {},
     "output_type": "execute_result"
    }
   ],
   "source": [
    "weather['avgspeed'].describe()"
   ]
  },
  {
   "cell_type": "markdown",
   "id": "0db95441-6730-4e32-96a2-b0739b322bdc",
   "metadata": {},
   "source": [
    "<b>Observation<b/> : \n",
    "\n",
    "1. Based on the <b>avgspeed</b> variable boxplot, there are a number of outliers. Most of the values are between 6.3 - 10.4 with 8.1 as median. Also, the descriptive statistics show the mean value of <b>avgspeed</b> is 8.5 which isvery close to median. In this case, we will use median to fill in the null values."
   ]
  },
  {
   "cell_type": "code",
   "execution_count": 36,
   "id": "cac5142a-38bf-4630-9f69-9cacff54ac0f",
   "metadata": {},
   "outputs": [],
   "source": [
    "weather['avgspeed'] = weather['avgspeed'].fillna(weather['avgspeed'].median())"
   ]
  },
  {
   "cell_type": "markdown",
   "id": "c9b8476f-27b7-499c-b0c4-3c10953f9df2",
   "metadata": {},
   "source": [
    "#### i) Imputed Sunrise and Sunset for Station 2 with Station 1 values using 'forward fill' method"
   ]
  },
  {
   "cell_type": "code",
   "execution_count": 37,
   "id": "dd0a204f-6b2f-4460-93e3-ab5ae2f99f27",
   "metadata": {},
   "outputs": [],
   "source": [
    "weather['sunrise'].fillna(method = 'ffill', inplace = True)\n",
    "weather['sunset'].fillna(method = 'ffill', inplace = True)"
   ]
  },
  {
   "cell_type": "markdown",
   "id": "848141c6-03a1-4846-adc2-7020b7107c5d",
   "metadata": {},
   "source": [
    "#### j) Imputed Depart for Station 2 with Station 1 values using 'forward fill' method"
   ]
  },
  {
   "cell_type": "code",
   "execution_count": 38,
   "id": "a7d14580-5db3-46af-b5b0-a47fcb29baae",
   "metadata": {},
   "outputs": [],
   "source": [
    "weather['depart'].fillna(method = 'ffill', inplace = True)"
   ]
  },
  {
   "cell_type": "code",
   "execution_count": 39,
   "id": "a59b11d2-0590-4fca-b5ec-129b0804f2d5",
   "metadata": {},
   "outputs": [
    {
     "name": "stdout",
     "output_type": "stream",
     "text": [
      "\n",
      "Total number of features with missing values: 0\n",
      "\n"
     ]
    },
    {
     "data": {
      "text/html": [
       "<div>\n",
       "<style scoped>\n",
       "    .dataframe tbody tr th:only-of-type {\n",
       "        vertical-align: middle;\n",
       "    }\n",
       "\n",
       "    .dataframe tbody tr th {\n",
       "        vertical-align: top;\n",
       "    }\n",
       "\n",
       "    .dataframe thead th {\n",
       "        text-align: right;\n",
       "    }\n",
       "</style>\n",
       "<table border=\"1\" class=\"dataframe\">\n",
       "  <thead>\n",
       "    <tr style=\"text-align: right;\">\n",
       "      <th></th>\n",
       "      <th>features</th>\n",
       "      <th>miss_val</th>\n",
       "      <th>percent</th>\n",
       "    </tr>\n",
       "  </thead>\n",
       "  <tbody>\n",
       "  </tbody>\n",
       "</table>\n",
       "</div>"
      ],
      "text/plain": [
       "Empty DataFrame\n",
       "Columns: [features, miss_val, percent]\n",
       "Index: []"
      ]
     },
     "execution_count": 39,
     "metadata": {},
     "output_type": "execute_result"
    }
   ],
   "source": [
    "missing_val(weather)"
   ]
  },
  {
   "cell_type": "code",
   "execution_count": 40,
   "id": "8e037ee2-e8b6-465d-b1e7-5e4e53c4d3a6",
   "metadata": {},
   "outputs": [
    {
     "name": "stdout",
     "output_type": "stream",
     "text": [
      "<class 'pandas.core.frame.DataFrame'>\n",
      "RangeIndex: 2944 entries, 0 to 2943\n",
      "Data columns (total 19 columns):\n",
      " #   Column       Non-Null Count  Dtype         \n",
      "---  ------       --------------  -----         \n",
      " 0   station      2944 non-null   int64         \n",
      " 1   date         2944 non-null   datetime64[ns]\n",
      " 2   tmax         2944 non-null   float64       \n",
      " 3   tmin         2944 non-null   float64       \n",
      " 4   tavg         2944 non-null   float64       \n",
      " 5   depart       2944 non-null   float64       \n",
      " 6   dewpoint     2944 non-null   float64       \n",
      " 7   wetbulb      2944 non-null   float64       \n",
      " 8   heat         2944 non-null   float64       \n",
      " 9   cool         2944 non-null   float64       \n",
      " 10  sunrise      2944 non-null   float64       \n",
      " 11  sunset       2944 non-null   float64       \n",
      " 12  codesum      2944 non-null   object        \n",
      " 13  preciptotal  2944 non-null   float64       \n",
      " 14  stnpressure  2944 non-null   float64       \n",
      " 15  sealevel     2944 non-null   float64       \n",
      " 16  resultspeed  2944 non-null   float64       \n",
      " 17  resultdir    2944 non-null   float64       \n",
      " 18  avgspeed     2944 non-null   float64       \n",
      "dtypes: datetime64[ns](1), float64(16), int64(1), object(1)\n",
      "memory usage: 437.1+ KB\n"
     ]
    }
   ],
   "source": [
    "weather.info()"
   ]
  },
  {
   "cell_type": "markdown",
   "id": "01d6f8dc-5028-4c53-876c-dac0eda15910",
   "metadata": {},
   "source": [
    "#### k) Split and recombined CodeSum to create proper spacing between different codes"
   ]
  },
  {
   "cell_type": "code",
   "execution_count": 41,
   "id": "1161c6ab-b859-43a0-b3cb-5952a3e72065",
   "metadata": {},
   "outputs": [],
   "source": [
    "# Ensuring that each code has proper spacing\n",
    "\n",
    "codes = ['+FC','FC', 'TS', 'GR', 'RA', 'DZ', 'SN', 'SG', 'GS', 'PL',\n",
    "         'IC', 'FG+', 'FG', 'BR', 'UP', 'HZ', 'FU', 'VA', 'DU', 'DS',\n",
    "         'PO', 'SA', 'SS', 'PY', 'SQ', 'DR', 'SH', 'FZ', 'MI', 'PR',\n",
    "         'BC', 'BL', 'VC']\n",
    "\n",
    "weather['codesum'] = weather['codesum'].apply(lambda x: ' '.join([t for t in x.split(' ') if t in codes]))"
   ]
  },
  {
   "cell_type": "code",
   "execution_count": 42,
   "id": "8176b3bc-0476-4017-b92b-81071671e30f",
   "metadata": {},
   "outputs": [
    {
     "data": {
      "text/plain": [
       "array(['', 'BR', 'BR HZ', 'HZ', 'RA', 'RA BR', 'RA HZ', 'RA BR HZ',\n",
       "       'BR HZ FU', 'RA HZ FU', 'TS RA BR HZ', 'DZ BR', 'TS BR HZ',\n",
       "       'RA DZ BR HZ', 'TS RA BR', 'TS RA', 'TS BR', 'RA DZ FG+ BR',\n",
       "       'RA FG+ BR', 'RA DZ', 'RA DZ BR', 'TS RA HZ', 'RA FG+ FG BR',\n",
       "       'DZ FG+ FG BR HZ', 'RA BR SQ', 'TS', 'FG+ BR HZ', 'RA SN',\n",
       "       'DZ BR HZ', 'RA BR FU', 'DZ', 'FG+ BR', 'FG+ FG BR', 'RA FG BR',\n",
       "       'RA DZ SN', 'FG+ FG BR HZ', 'TS RA FG BR', 'TS RA FG+ FG BR',\n",
       "       'RA DZ FG+ FG BR', 'FU', 'TS HZ', 'TS GR RA BR', 'HZ FU',\n",
       "       'RA BR HZ FU', 'RA FG+ FG BR HZ', 'FG+', 'BR SQ', 'FG BR HZ',\n",
       "       'TS RA FG BR HZ', 'RA DZ FG+ BR HZ', 'RA SN BR'], dtype=object)"
      ]
     },
     "execution_count": 42,
     "metadata": {},
     "output_type": "execute_result"
    }
   ],
   "source": [
    "weather['codesum'].unique()"
   ]
  },
  {
   "cell_type": "markdown",
   "id": "5896a187-821c-4dcd-9aaf-67c7a9245bca",
   "metadata": {},
   "source": [
    "<b>Observation<b/> : \n",
    "\n",
    "1. '+FC', 'FC', 'UP', 'VA', 'SA', 'PY', 'PR' are not present in our data so will not be using. 'VC' doesn't indicate what kind of weather within vicinity. We will create dummy variables indicate rainy, snowy, windy and misty conditions.\n",
    "2. Based on QC documents, empty string represent normal weather."
   ]
  },
  {
   "cell_type": "markdown",
   "id": "fc7b8de8-6a03-4a0b-8ee9-dfea280a8268",
   "metadata": {},
   "source": [
    "#### l) Created new variables indicate rainy, snowy, windy and misty weather phenomena based on codesum and dropped low count variable/snowy & windy weather"
   ]
  },
  {
   "cell_type": "code",
   "execution_count": 43,
   "id": "77e3fcba-f948-4a69-8150-6cf26a6624de",
   "metadata": {},
   "outputs": [],
   "source": [
    "# create new variabless indicate rainy, snowy, windy and misty conditions \n",
    "\n",
    "weather['rain'] = np.where(weather['codesum'].str.contains(\"|\".join(['TS', 'RA', 'DZ', 'SH'])), 1, 0)\n",
    "weather['snow'] = np.where(weather['codesum'].str.contains(\"|\".join(['SN', 'SG', 'GS', 'PL', 'IC', 'DR', 'FZ', 'BC', 'GR'])), 1, 0)\n",
    "weather['wind'] = np.where(weather['codesum'].str.contains(\"|\".join(['SQ', 'DS', 'SS', 'PO', 'BL', 'DU'])), 1, 0)\n",
    "weather['mist'] = np.where(weather['codesum'].str.contains(\"|\".join(['BR', 'HZ', 'MI', 'FG', 'FG+', 'FU'])), 1, 0)"
   ]
  },
  {
   "cell_type": "code",
   "execution_count": 44,
   "id": "2be3708d-8e5e-4b8a-b479-495fb73c3805",
   "metadata": {},
   "outputs": [
    {
     "data": {
      "text/html": [
       "<div>\n",
       "<style scoped>\n",
       "    .dataframe tbody tr th:only-of-type {\n",
       "        vertical-align: middle;\n",
       "    }\n",
       "\n",
       "    .dataframe tbody tr th {\n",
       "        vertical-align: top;\n",
       "    }\n",
       "\n",
       "    .dataframe thead th {\n",
       "        text-align: right;\n",
       "    }\n",
       "</style>\n",
       "<table border=\"1\" class=\"dataframe\">\n",
       "  <thead>\n",
       "    <tr style=\"text-align: right;\">\n",
       "      <th></th>\n",
       "      <th>station</th>\n",
       "      <th>date</th>\n",
       "      <th>tmax</th>\n",
       "      <th>tmin</th>\n",
       "      <th>tavg</th>\n",
       "      <th>depart</th>\n",
       "      <th>dewpoint</th>\n",
       "      <th>wetbulb</th>\n",
       "      <th>heat</th>\n",
       "      <th>cool</th>\n",
       "      <th>sunrise</th>\n",
       "      <th>sunset</th>\n",
       "      <th>codesum</th>\n",
       "      <th>preciptotal</th>\n",
       "      <th>stnpressure</th>\n",
       "      <th>sealevel</th>\n",
       "      <th>resultspeed</th>\n",
       "      <th>resultdir</th>\n",
       "      <th>avgspeed</th>\n",
       "      <th>rain</th>\n",
       "      <th>snow</th>\n",
       "      <th>wind</th>\n",
       "      <th>mist</th>\n",
       "    </tr>\n",
       "  </thead>\n",
       "  <tbody>\n",
       "    <tr>\n",
       "      <th>0</th>\n",
       "      <td>1</td>\n",
       "      <td>2007-05-01</td>\n",
       "      <td>83.0</td>\n",
       "      <td>50.0</td>\n",
       "      <td>67.0</td>\n",
       "      <td>14.0</td>\n",
       "      <td>51.0</td>\n",
       "      <td>56.0</td>\n",
       "      <td>0.0</td>\n",
       "      <td>2.0</td>\n",
       "      <td>448.0</td>\n",
       "      <td>1849.0</td>\n",
       "      <td></td>\n",
       "      <td>0.0</td>\n",
       "      <td>29.10</td>\n",
       "      <td>29.82</td>\n",
       "      <td>1.7</td>\n",
       "      <td>27.0</td>\n",
       "      <td>9.2</td>\n",
       "      <td>0</td>\n",
       "      <td>0</td>\n",
       "      <td>0</td>\n",
       "      <td>0</td>\n",
       "    </tr>\n",
       "    <tr>\n",
       "      <th>1</th>\n",
       "      <td>2</td>\n",
       "      <td>2007-05-01</td>\n",
       "      <td>84.0</td>\n",
       "      <td>52.0</td>\n",
       "      <td>68.0</td>\n",
       "      <td>14.0</td>\n",
       "      <td>51.0</td>\n",
       "      <td>57.0</td>\n",
       "      <td>0.0</td>\n",
       "      <td>3.0</td>\n",
       "      <td>448.0</td>\n",
       "      <td>1849.0</td>\n",
       "      <td></td>\n",
       "      <td>0.0</td>\n",
       "      <td>29.18</td>\n",
       "      <td>29.82</td>\n",
       "      <td>2.7</td>\n",
       "      <td>25.0</td>\n",
       "      <td>9.6</td>\n",
       "      <td>0</td>\n",
       "      <td>0</td>\n",
       "      <td>0</td>\n",
       "      <td>0</td>\n",
       "    </tr>\n",
       "    <tr>\n",
       "      <th>2</th>\n",
       "      <td>1</td>\n",
       "      <td>2007-05-02</td>\n",
       "      <td>59.0</td>\n",
       "      <td>42.0</td>\n",
       "      <td>51.0</td>\n",
       "      <td>-3.0</td>\n",
       "      <td>42.0</td>\n",
       "      <td>47.0</td>\n",
       "      <td>14.0</td>\n",
       "      <td>0.0</td>\n",
       "      <td>447.0</td>\n",
       "      <td>1850.0</td>\n",
       "      <td>BR</td>\n",
       "      <td>0.0</td>\n",
       "      <td>29.38</td>\n",
       "      <td>30.09</td>\n",
       "      <td>13.0</td>\n",
       "      <td>4.0</td>\n",
       "      <td>13.4</td>\n",
       "      <td>0</td>\n",
       "      <td>0</td>\n",
       "      <td>0</td>\n",
       "      <td>1</td>\n",
       "    </tr>\n",
       "    <tr>\n",
       "      <th>3</th>\n",
       "      <td>2</td>\n",
       "      <td>2007-05-02</td>\n",
       "      <td>60.0</td>\n",
       "      <td>43.0</td>\n",
       "      <td>52.0</td>\n",
       "      <td>-3.0</td>\n",
       "      <td>42.0</td>\n",
       "      <td>47.0</td>\n",
       "      <td>13.0</td>\n",
       "      <td>0.0</td>\n",
       "      <td>447.0</td>\n",
       "      <td>1850.0</td>\n",
       "      <td>BR HZ</td>\n",
       "      <td>0.0</td>\n",
       "      <td>29.44</td>\n",
       "      <td>30.08</td>\n",
       "      <td>13.3</td>\n",
       "      <td>2.0</td>\n",
       "      <td>13.4</td>\n",
       "      <td>0</td>\n",
       "      <td>0</td>\n",
       "      <td>0</td>\n",
       "      <td>1</td>\n",
       "    </tr>\n",
       "    <tr>\n",
       "      <th>4</th>\n",
       "      <td>1</td>\n",
       "      <td>2007-05-03</td>\n",
       "      <td>66.0</td>\n",
       "      <td>46.0</td>\n",
       "      <td>56.0</td>\n",
       "      <td>2.0</td>\n",
       "      <td>40.0</td>\n",
       "      <td>48.0</td>\n",
       "      <td>9.0</td>\n",
       "      <td>0.0</td>\n",
       "      <td>446.0</td>\n",
       "      <td>1851.0</td>\n",
       "      <td></td>\n",
       "      <td>0.0</td>\n",
       "      <td>29.39</td>\n",
       "      <td>30.12</td>\n",
       "      <td>11.7</td>\n",
       "      <td>7.0</td>\n",
       "      <td>11.9</td>\n",
       "      <td>0</td>\n",
       "      <td>0</td>\n",
       "      <td>0</td>\n",
       "      <td>0</td>\n",
       "    </tr>\n",
       "  </tbody>\n",
       "</table>\n",
       "</div>"
      ],
      "text/plain": [
       "   station       date  tmax  tmin  tavg  depart  dewpoint  wetbulb  heat  \\\n",
       "0        1 2007-05-01  83.0  50.0  67.0    14.0      51.0     56.0   0.0   \n",
       "1        2 2007-05-01  84.0  52.0  68.0    14.0      51.0     57.0   0.0   \n",
       "2        1 2007-05-02  59.0  42.0  51.0    -3.0      42.0     47.0  14.0   \n",
       "3        2 2007-05-02  60.0  43.0  52.0    -3.0      42.0     47.0  13.0   \n",
       "4        1 2007-05-03  66.0  46.0  56.0     2.0      40.0     48.0   9.0   \n",
       "\n",
       "   cool  sunrise  sunset codesum  preciptotal  stnpressure  sealevel  \\\n",
       "0   2.0    448.0  1849.0                  0.0        29.10     29.82   \n",
       "1   3.0    448.0  1849.0                  0.0        29.18     29.82   \n",
       "2   0.0    447.0  1850.0      BR          0.0        29.38     30.09   \n",
       "3   0.0    447.0  1850.0   BR HZ          0.0        29.44     30.08   \n",
       "4   0.0    446.0  1851.0                  0.0        29.39     30.12   \n",
       "\n",
       "   resultspeed  resultdir  avgspeed  rain  snow  wind  mist  \n",
       "0          1.7       27.0       9.2     0     0     0     0  \n",
       "1          2.7       25.0       9.6     0     0     0     0  \n",
       "2         13.0        4.0      13.4     0     0     0     1  \n",
       "3         13.3        2.0      13.4     0     0     0     1  \n",
       "4         11.7        7.0      11.9     0     0     0     0  "
      ]
     },
     "execution_count": 44,
     "metadata": {},
     "output_type": "execute_result"
    }
   ],
   "source": [
    "weather.head()"
   ]
  },
  {
   "cell_type": "code",
   "execution_count": 45,
   "id": "22f03e9a-39c0-4e53-b7ec-6419e93322cb",
   "metadata": {},
   "outputs": [
    {
     "data": {
      "text/plain": [
       "rain    1007\n",
       "snow       7\n",
       "wind       3\n",
       "mist     883\n",
       "dtype: int64"
      ]
     },
     "execution_count": 45,
     "metadata": {},
     "output_type": "execute_result"
    }
   ],
   "source": [
    "weather[['rain', 'snow', 'wind', 'mist']].sum()"
   ]
  },
  {
   "cell_type": "markdown",
   "id": "a512d4c8-18dd-4015-9aa4-69f0913e510f",
   "metadata": {},
   "source": [
    "<b>Observation<b/> : \n",
    "\n",
    "1. <b>snow & wind</b> has low count, so decided to drop the variables. Also, because warm and moist weather is mosquito's friend.\n",
    "2. <b>codesum</b> variable can be dropped."
   ]
  },
  {
   "cell_type": "code",
   "execution_count": 46,
   "id": "e99223c4-e60e-40d1-9054-61109e81454e",
   "metadata": {},
   "outputs": [],
   "source": [
    "weather.drop(columns = ['codesum', 'snow','wind'], inplace = True)"
   ]
  },
  {
   "cell_type": "code",
   "execution_count": 47,
   "id": "73606aa6-ca58-4b57-936a-4c31fe8df7f1",
   "metadata": {},
   "outputs": [
    {
     "data": {
      "text/html": [
       "<div>\n",
       "<style scoped>\n",
       "    .dataframe tbody tr th:only-of-type {\n",
       "        vertical-align: middle;\n",
       "    }\n",
       "\n",
       "    .dataframe tbody tr th {\n",
       "        vertical-align: top;\n",
       "    }\n",
       "\n",
       "    .dataframe thead th {\n",
       "        text-align: right;\n",
       "    }\n",
       "</style>\n",
       "<table border=\"1\" class=\"dataframe\">\n",
       "  <thead>\n",
       "    <tr style=\"text-align: right;\">\n",
       "      <th></th>\n",
       "      <th>station</th>\n",
       "      <th>date</th>\n",
       "      <th>tmax</th>\n",
       "      <th>tmin</th>\n",
       "      <th>tavg</th>\n",
       "      <th>depart</th>\n",
       "      <th>dewpoint</th>\n",
       "      <th>wetbulb</th>\n",
       "      <th>heat</th>\n",
       "      <th>cool</th>\n",
       "      <th>sunrise</th>\n",
       "      <th>sunset</th>\n",
       "      <th>preciptotal</th>\n",
       "      <th>stnpressure</th>\n",
       "      <th>sealevel</th>\n",
       "      <th>resultspeed</th>\n",
       "      <th>resultdir</th>\n",
       "      <th>avgspeed</th>\n",
       "      <th>rain</th>\n",
       "      <th>mist</th>\n",
       "    </tr>\n",
       "  </thead>\n",
       "  <tbody>\n",
       "    <tr>\n",
       "      <th>0</th>\n",
       "      <td>1</td>\n",
       "      <td>2007-05-01</td>\n",
       "      <td>83.0</td>\n",
       "      <td>50.0</td>\n",
       "      <td>67.0</td>\n",
       "      <td>14.0</td>\n",
       "      <td>51.0</td>\n",
       "      <td>56.0</td>\n",
       "      <td>0.0</td>\n",
       "      <td>2.0</td>\n",
       "      <td>448.0</td>\n",
       "      <td>1849.0</td>\n",
       "      <td>0.000</td>\n",
       "      <td>29.10</td>\n",
       "      <td>29.82</td>\n",
       "      <td>1.7</td>\n",
       "      <td>27.0</td>\n",
       "      <td>9.2</td>\n",
       "      <td>0</td>\n",
       "      <td>0</td>\n",
       "    </tr>\n",
       "    <tr>\n",
       "      <th>1</th>\n",
       "      <td>2</td>\n",
       "      <td>2007-05-01</td>\n",
       "      <td>84.0</td>\n",
       "      <td>52.0</td>\n",
       "      <td>68.0</td>\n",
       "      <td>14.0</td>\n",
       "      <td>51.0</td>\n",
       "      <td>57.0</td>\n",
       "      <td>0.0</td>\n",
       "      <td>3.0</td>\n",
       "      <td>448.0</td>\n",
       "      <td>1849.0</td>\n",
       "      <td>0.000</td>\n",
       "      <td>29.18</td>\n",
       "      <td>29.82</td>\n",
       "      <td>2.7</td>\n",
       "      <td>25.0</td>\n",
       "      <td>9.6</td>\n",
       "      <td>0</td>\n",
       "      <td>0</td>\n",
       "    </tr>\n",
       "    <tr>\n",
       "      <th>2</th>\n",
       "      <td>1</td>\n",
       "      <td>2007-05-02</td>\n",
       "      <td>59.0</td>\n",
       "      <td>42.0</td>\n",
       "      <td>51.0</td>\n",
       "      <td>-3.0</td>\n",
       "      <td>42.0</td>\n",
       "      <td>47.0</td>\n",
       "      <td>14.0</td>\n",
       "      <td>0.0</td>\n",
       "      <td>447.0</td>\n",
       "      <td>1850.0</td>\n",
       "      <td>0.000</td>\n",
       "      <td>29.38</td>\n",
       "      <td>30.09</td>\n",
       "      <td>13.0</td>\n",
       "      <td>4.0</td>\n",
       "      <td>13.4</td>\n",
       "      <td>0</td>\n",
       "      <td>1</td>\n",
       "    </tr>\n",
       "    <tr>\n",
       "      <th>3</th>\n",
       "      <td>2</td>\n",
       "      <td>2007-05-02</td>\n",
       "      <td>60.0</td>\n",
       "      <td>43.0</td>\n",
       "      <td>52.0</td>\n",
       "      <td>-3.0</td>\n",
       "      <td>42.0</td>\n",
       "      <td>47.0</td>\n",
       "      <td>13.0</td>\n",
       "      <td>0.0</td>\n",
       "      <td>447.0</td>\n",
       "      <td>1850.0</td>\n",
       "      <td>0.000</td>\n",
       "      <td>29.44</td>\n",
       "      <td>30.08</td>\n",
       "      <td>13.3</td>\n",
       "      <td>2.0</td>\n",
       "      <td>13.4</td>\n",
       "      <td>0</td>\n",
       "      <td>1</td>\n",
       "    </tr>\n",
       "    <tr>\n",
       "      <th>4</th>\n",
       "      <td>1</td>\n",
       "      <td>2007-05-03</td>\n",
       "      <td>66.0</td>\n",
       "      <td>46.0</td>\n",
       "      <td>56.0</td>\n",
       "      <td>2.0</td>\n",
       "      <td>40.0</td>\n",
       "      <td>48.0</td>\n",
       "      <td>9.0</td>\n",
       "      <td>0.0</td>\n",
       "      <td>446.0</td>\n",
       "      <td>1851.0</td>\n",
       "      <td>0.000</td>\n",
       "      <td>29.39</td>\n",
       "      <td>30.12</td>\n",
       "      <td>11.7</td>\n",
       "      <td>7.0</td>\n",
       "      <td>11.9</td>\n",
       "      <td>0</td>\n",
       "      <td>0</td>\n",
       "    </tr>\n",
       "    <tr>\n",
       "      <th>...</th>\n",
       "      <td>...</td>\n",
       "      <td>...</td>\n",
       "      <td>...</td>\n",
       "      <td>...</td>\n",
       "      <td>...</td>\n",
       "      <td>...</td>\n",
       "      <td>...</td>\n",
       "      <td>...</td>\n",
       "      <td>...</td>\n",
       "      <td>...</td>\n",
       "      <td>...</td>\n",
       "      <td>...</td>\n",
       "      <td>...</td>\n",
       "      <td>...</td>\n",
       "      <td>...</td>\n",
       "      <td>...</td>\n",
       "      <td>...</td>\n",
       "      <td>...</td>\n",
       "      <td>...</td>\n",
       "      <td>...</td>\n",
       "    </tr>\n",
       "    <tr>\n",
       "      <th>2939</th>\n",
       "      <td>2</td>\n",
       "      <td>2014-10-29</td>\n",
       "      <td>49.0</td>\n",
       "      <td>40.0</td>\n",
       "      <td>45.0</td>\n",
       "      <td>-4.0</td>\n",
       "      <td>34.0</td>\n",
       "      <td>42.0</td>\n",
       "      <td>20.0</td>\n",
       "      <td>0.0</td>\n",
       "      <td>620.0</td>\n",
       "      <td>1650.0</td>\n",
       "      <td>0.000</td>\n",
       "      <td>29.42</td>\n",
       "      <td>30.07</td>\n",
       "      <td>8.5</td>\n",
       "      <td>29.0</td>\n",
       "      <td>9.0</td>\n",
       "      <td>0</td>\n",
       "      <td>0</td>\n",
       "    </tr>\n",
       "    <tr>\n",
       "      <th>2940</th>\n",
       "      <td>1</td>\n",
       "      <td>2014-10-30</td>\n",
       "      <td>51.0</td>\n",
       "      <td>32.0</td>\n",
       "      <td>42.0</td>\n",
       "      <td>-4.0</td>\n",
       "      <td>34.0</td>\n",
       "      <td>40.0</td>\n",
       "      <td>23.0</td>\n",
       "      <td>0.0</td>\n",
       "      <td>622.0</td>\n",
       "      <td>1649.0</td>\n",
       "      <td>0.000</td>\n",
       "      <td>29.34</td>\n",
       "      <td>30.09</td>\n",
       "      <td>5.1</td>\n",
       "      <td>24.0</td>\n",
       "      <td>5.5</td>\n",
       "      <td>0</td>\n",
       "      <td>0</td>\n",
       "    </tr>\n",
       "    <tr>\n",
       "      <th>2941</th>\n",
       "      <td>2</td>\n",
       "      <td>2014-10-30</td>\n",
       "      <td>53.0</td>\n",
       "      <td>37.0</td>\n",
       "      <td>45.0</td>\n",
       "      <td>-4.0</td>\n",
       "      <td>35.0</td>\n",
       "      <td>42.0</td>\n",
       "      <td>20.0</td>\n",
       "      <td>0.0</td>\n",
       "      <td>622.0</td>\n",
       "      <td>1649.0</td>\n",
       "      <td>0.005</td>\n",
       "      <td>29.41</td>\n",
       "      <td>30.10</td>\n",
       "      <td>5.9</td>\n",
       "      <td>23.0</td>\n",
       "      <td>6.5</td>\n",
       "      <td>1</td>\n",
       "      <td>0</td>\n",
       "    </tr>\n",
       "    <tr>\n",
       "      <th>2942</th>\n",
       "      <td>1</td>\n",
       "      <td>2014-10-31</td>\n",
       "      <td>47.0</td>\n",
       "      <td>33.0</td>\n",
       "      <td>40.0</td>\n",
       "      <td>-6.0</td>\n",
       "      <td>25.0</td>\n",
       "      <td>33.0</td>\n",
       "      <td>25.0</td>\n",
       "      <td>0.0</td>\n",
       "      <td>623.0</td>\n",
       "      <td>1647.0</td>\n",
       "      <td>0.030</td>\n",
       "      <td>29.49</td>\n",
       "      <td>30.20</td>\n",
       "      <td>22.6</td>\n",
       "      <td>34.0</td>\n",
       "      <td>22.9</td>\n",
       "      <td>1</td>\n",
       "      <td>0</td>\n",
       "    </tr>\n",
       "    <tr>\n",
       "      <th>2943</th>\n",
       "      <td>2</td>\n",
       "      <td>2014-10-31</td>\n",
       "      <td>49.0</td>\n",
       "      <td>34.0</td>\n",
       "      <td>42.0</td>\n",
       "      <td>-6.0</td>\n",
       "      <td>29.0</td>\n",
       "      <td>36.0</td>\n",
       "      <td>23.0</td>\n",
       "      <td>0.0</td>\n",
       "      <td>623.0</td>\n",
       "      <td>1647.0</td>\n",
       "      <td>0.040</td>\n",
       "      <td>29.54</td>\n",
       "      <td>30.20</td>\n",
       "      <td>21.7</td>\n",
       "      <td>34.0</td>\n",
       "      <td>22.6</td>\n",
       "      <td>1</td>\n",
       "      <td>1</td>\n",
       "    </tr>\n",
       "  </tbody>\n",
       "</table>\n",
       "<p>2944 rows × 20 columns</p>\n",
       "</div>"
      ],
      "text/plain": [
       "      station       date  tmax  tmin  tavg  depart  dewpoint  wetbulb  heat  \\\n",
       "0           1 2007-05-01  83.0  50.0  67.0    14.0      51.0     56.0   0.0   \n",
       "1           2 2007-05-01  84.0  52.0  68.0    14.0      51.0     57.0   0.0   \n",
       "2           1 2007-05-02  59.0  42.0  51.0    -3.0      42.0     47.0  14.0   \n",
       "3           2 2007-05-02  60.0  43.0  52.0    -3.0      42.0     47.0  13.0   \n",
       "4           1 2007-05-03  66.0  46.0  56.0     2.0      40.0     48.0   9.0   \n",
       "...       ...        ...   ...   ...   ...     ...       ...      ...   ...   \n",
       "2939        2 2014-10-29  49.0  40.0  45.0    -4.0      34.0     42.0  20.0   \n",
       "2940        1 2014-10-30  51.0  32.0  42.0    -4.0      34.0     40.0  23.0   \n",
       "2941        2 2014-10-30  53.0  37.0  45.0    -4.0      35.0     42.0  20.0   \n",
       "2942        1 2014-10-31  47.0  33.0  40.0    -6.0      25.0     33.0  25.0   \n",
       "2943        2 2014-10-31  49.0  34.0  42.0    -6.0      29.0     36.0  23.0   \n",
       "\n",
       "      cool  sunrise  sunset  preciptotal  stnpressure  sealevel  resultspeed  \\\n",
       "0      2.0    448.0  1849.0        0.000        29.10     29.82          1.7   \n",
       "1      3.0    448.0  1849.0        0.000        29.18     29.82          2.7   \n",
       "2      0.0    447.0  1850.0        0.000        29.38     30.09         13.0   \n",
       "3      0.0    447.0  1850.0        0.000        29.44     30.08         13.3   \n",
       "4      0.0    446.0  1851.0        0.000        29.39     30.12         11.7   \n",
       "...    ...      ...     ...          ...          ...       ...          ...   \n",
       "2939   0.0    620.0  1650.0        0.000        29.42     30.07          8.5   \n",
       "2940   0.0    622.0  1649.0        0.000        29.34     30.09          5.1   \n",
       "2941   0.0    622.0  1649.0        0.005        29.41     30.10          5.9   \n",
       "2942   0.0    623.0  1647.0        0.030        29.49     30.20         22.6   \n",
       "2943   0.0    623.0  1647.0        0.040        29.54     30.20         21.7   \n",
       "\n",
       "      resultdir  avgspeed  rain  mist  \n",
       "0          27.0       9.2     0     0  \n",
       "1          25.0       9.6     0     0  \n",
       "2           4.0      13.4     0     1  \n",
       "3           2.0      13.4     0     1  \n",
       "4           7.0      11.9     0     0  \n",
       "...         ...       ...   ...   ...  \n",
       "2939       29.0       9.0     0     0  \n",
       "2940       24.0       5.5     0     0  \n",
       "2941       23.0       6.5     1     0  \n",
       "2942       34.0      22.9     1     0  \n",
       "2943       34.0      22.6     1     1  \n",
       "\n",
       "[2944 rows x 20 columns]"
      ]
     },
     "execution_count": 47,
     "metadata": {},
     "output_type": "execute_result"
    }
   ],
   "source": [
    "weather.reset_index(drop = True)"
   ]
  },
  {
   "cell_type": "markdown",
   "id": "74a3c2b0-3435-4d1e-8692-6b5dbc72a6b3",
   "metadata": {},
   "source": [
    "#### m) Merged stations 1 & 2 on date, sunrise & sunset"
   ]
  },
  {
   "cell_type": "code",
   "execution_count": 48,
   "id": "c5e4dcaf-0d90-423f-a7f7-6a05b6265c6f",
   "metadata": {},
   "outputs": [],
   "source": [
    "weather = weather.groupby(['date','sunrise','sunset']).sum() / 2\n",
    "weather = weather.drop(columns=['station']).reset_index()"
   ]
  },
  {
   "cell_type": "code",
   "execution_count": 49,
   "id": "2c8a5260-d465-4dc2-a2b9-c228765078d1",
   "metadata": {},
   "outputs": [
    {
     "data": {
      "text/html": [
       "<div>\n",
       "<style scoped>\n",
       "    .dataframe tbody tr th:only-of-type {\n",
       "        vertical-align: middle;\n",
       "    }\n",
       "\n",
       "    .dataframe tbody tr th {\n",
       "        vertical-align: top;\n",
       "    }\n",
       "\n",
       "    .dataframe thead th {\n",
       "        text-align: right;\n",
       "    }\n",
       "</style>\n",
       "<table border=\"1\" class=\"dataframe\">\n",
       "  <thead>\n",
       "    <tr style=\"text-align: right;\">\n",
       "      <th></th>\n",
       "      <th>date</th>\n",
       "      <th>sunrise</th>\n",
       "      <th>sunset</th>\n",
       "      <th>tmax</th>\n",
       "      <th>tmin</th>\n",
       "      <th>tavg</th>\n",
       "      <th>depart</th>\n",
       "      <th>dewpoint</th>\n",
       "      <th>wetbulb</th>\n",
       "      <th>heat</th>\n",
       "      <th>cool</th>\n",
       "      <th>preciptotal</th>\n",
       "      <th>stnpressure</th>\n",
       "      <th>sealevel</th>\n",
       "      <th>resultspeed</th>\n",
       "      <th>resultdir</th>\n",
       "      <th>avgspeed</th>\n",
       "      <th>rain</th>\n",
       "      <th>mist</th>\n",
       "    </tr>\n",
       "  </thead>\n",
       "  <tbody>\n",
       "    <tr>\n",
       "      <th>0</th>\n",
       "      <td>2007-05-01</td>\n",
       "      <td>448.0</td>\n",
       "      <td>1849.0</td>\n",
       "      <td>83.5</td>\n",
       "      <td>51.0</td>\n",
       "      <td>67.5</td>\n",
       "      <td>14.0</td>\n",
       "      <td>51.0</td>\n",
       "      <td>56.5</td>\n",
       "      <td>0.0</td>\n",
       "      <td>2.5</td>\n",
       "      <td>0.0000</td>\n",
       "      <td>29.140</td>\n",
       "      <td>29.820</td>\n",
       "      <td>2.20</td>\n",
       "      <td>26.0</td>\n",
       "      <td>9.40</td>\n",
       "      <td>0.0</td>\n",
       "      <td>0.0</td>\n",
       "    </tr>\n",
       "    <tr>\n",
       "      <th>1</th>\n",
       "      <td>2007-05-02</td>\n",
       "      <td>447.0</td>\n",
       "      <td>1850.0</td>\n",
       "      <td>59.5</td>\n",
       "      <td>42.5</td>\n",
       "      <td>51.5</td>\n",
       "      <td>-3.0</td>\n",
       "      <td>42.0</td>\n",
       "      <td>47.0</td>\n",
       "      <td>13.5</td>\n",
       "      <td>0.0</td>\n",
       "      <td>0.0000</td>\n",
       "      <td>29.410</td>\n",
       "      <td>30.085</td>\n",
       "      <td>13.15</td>\n",
       "      <td>3.0</td>\n",
       "      <td>13.40</td>\n",
       "      <td>0.0</td>\n",
       "      <td>1.0</td>\n",
       "    </tr>\n",
       "    <tr>\n",
       "      <th>2</th>\n",
       "      <td>2007-05-03</td>\n",
       "      <td>446.0</td>\n",
       "      <td>1851.0</td>\n",
       "      <td>66.5</td>\n",
       "      <td>47.0</td>\n",
       "      <td>57.0</td>\n",
       "      <td>2.0</td>\n",
       "      <td>40.0</td>\n",
       "      <td>49.0</td>\n",
       "      <td>8.0</td>\n",
       "      <td>0.0</td>\n",
       "      <td>0.0000</td>\n",
       "      <td>29.425</td>\n",
       "      <td>30.120</td>\n",
       "      <td>12.30</td>\n",
       "      <td>6.5</td>\n",
       "      <td>12.55</td>\n",
       "      <td>0.0</td>\n",
       "      <td>0.5</td>\n",
       "    </tr>\n",
       "    <tr>\n",
       "      <th>3</th>\n",
       "      <td>2007-05-04</td>\n",
       "      <td>444.0</td>\n",
       "      <td>1852.0</td>\n",
       "      <td>72.0</td>\n",
       "      <td>50.0</td>\n",
       "      <td>61.0</td>\n",
       "      <td>4.0</td>\n",
       "      <td>41.5</td>\n",
       "      <td>50.0</td>\n",
       "      <td>4.0</td>\n",
       "      <td>0.0</td>\n",
       "      <td>0.0025</td>\n",
       "      <td>29.335</td>\n",
       "      <td>30.045</td>\n",
       "      <td>10.25</td>\n",
       "      <td>7.5</td>\n",
       "      <td>10.60</td>\n",
       "      <td>0.5</td>\n",
       "      <td>0.0</td>\n",
       "    </tr>\n",
       "    <tr>\n",
       "      <th>4</th>\n",
       "      <td>2007-05-05</td>\n",
       "      <td>443.0</td>\n",
       "      <td>1853.0</td>\n",
       "      <td>66.0</td>\n",
       "      <td>53.5</td>\n",
       "      <td>60.0</td>\n",
       "      <td>5.0</td>\n",
       "      <td>38.5</td>\n",
       "      <td>49.5</td>\n",
       "      <td>5.0</td>\n",
       "      <td>0.0</td>\n",
       "      <td>0.0050</td>\n",
       "      <td>29.430</td>\n",
       "      <td>30.095</td>\n",
       "      <td>11.45</td>\n",
       "      <td>7.0</td>\n",
       "      <td>11.75</td>\n",
       "      <td>0.0</td>\n",
       "      <td>0.0</td>\n",
       "    </tr>\n",
       "  </tbody>\n",
       "</table>\n",
       "</div>"
      ],
      "text/plain": [
       "        date  sunrise  sunset  tmax  tmin  tavg  depart  dewpoint  wetbulb  \\\n",
       "0 2007-05-01    448.0  1849.0  83.5  51.0  67.5    14.0      51.0     56.5   \n",
       "1 2007-05-02    447.0  1850.0  59.5  42.5  51.5    -3.0      42.0     47.0   \n",
       "2 2007-05-03    446.0  1851.0  66.5  47.0  57.0     2.0      40.0     49.0   \n",
       "3 2007-05-04    444.0  1852.0  72.0  50.0  61.0     4.0      41.5     50.0   \n",
       "4 2007-05-05    443.0  1853.0  66.0  53.5  60.0     5.0      38.5     49.5   \n",
       "\n",
       "   heat  cool  preciptotal  stnpressure  sealevel  resultspeed  resultdir  \\\n",
       "0   0.0   2.5       0.0000       29.140    29.820         2.20       26.0   \n",
       "1  13.5   0.0       0.0000       29.410    30.085        13.15        3.0   \n",
       "2   8.0   0.0       0.0000       29.425    30.120        12.30        6.5   \n",
       "3   4.0   0.0       0.0025       29.335    30.045        10.25        7.5   \n",
       "4   5.0   0.0       0.0050       29.430    30.095        11.45        7.0   \n",
       "\n",
       "   avgspeed  rain  mist  \n",
       "0      9.40   0.0   0.0  \n",
       "1     13.40   0.0   1.0  \n",
       "2     12.55   0.0   0.5  \n",
       "3     10.60   0.5   0.0  \n",
       "4     11.75   0.0   0.0  "
      ]
     },
     "execution_count": 49,
     "metadata": {},
     "output_type": "execute_result"
    }
   ],
   "source": [
    "weather.head()"
   ]
  },
  {
   "cell_type": "markdown",
   "id": "71e1f2dd-d4e9-4627-8d4c-51a4717918dd",
   "metadata": {},
   "source": [
    "#### n) Added year, month and day features"
   ]
  },
  {
   "cell_type": "code",
   "execution_count": 50,
   "id": "0f8ef656-394b-4099-bbf8-4e2c48849838",
   "metadata": {},
   "outputs": [],
   "source": [
    "weather['year'] = weather['date'].apply(lambda x: x.year)\n",
    "weather['month'] = weather['date'].apply(lambda x: x.month)\n",
    "weather['day'] = weather['date'].apply(lambda x: x.day)"
   ]
  },
  {
   "cell_type": "code",
   "execution_count": 51,
   "id": "cc5e4710-9fc7-4192-9fa0-21a47058d553",
   "metadata": {},
   "outputs": [],
   "source": [
    "weather.to_pickle('./data/weather.pk1')"
   ]
  },
  {
   "cell_type": "code",
   "execution_count": null,
   "id": "3760cb03-6df9-48da-ba8c-1f4476465f95",
   "metadata": {},
   "outputs": [],
   "source": []
  }
 ],
 "metadata": {
  "kernelspec": {
   "display_name": "Python 3",
   "language": "python",
   "name": "python3"
  },
  "language_info": {
   "codemirror_mode": {
    "name": "ipython",
    "version": 3
   },
   "file_extension": ".py",
   "mimetype": "text/x-python",
   "name": "python",
   "nbconvert_exporter": "python",
   "pygments_lexer": "ipython3",
   "version": "3.8.8"
  }
 },
 "nbformat": 4,
 "nbformat_minor": 5
}
